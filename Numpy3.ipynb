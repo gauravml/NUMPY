{
  "nbformat": 4,
  "nbformat_minor": 0,
  "metadata": {
    "colab": {
      "provenance": [],
      "include_colab_link": true
    },
    "kernelspec": {
      "name": "python3",
      "display_name": "Python 3"
    },
    "language_info": {
      "name": "python"
    }
  },
  "cells": [
    {
      "cell_type": "markdown",
      "metadata": {
        "id": "view-in-github",
        "colab_type": "text"
      },
      "source": [
        "<a href=\"https://colab.research.google.com/github/gauravml/NUMPY/blob/main/Numpy3.ipynb\" target=\"_parent\"><img src=\"https://colab.research.google.com/assets/colab-badge.svg\" alt=\"Open In Colab\"/></a>"
      ]
    },
    {
      "cell_type": "markdown",
      "source": [
        "# Indexing on Numpy"
      ],
      "metadata": {
        "id": "kJ1k7bOkICai"
      }
    },
    {
      "cell_type": "markdown",
      "source": [
        "## Prep"
      ],
      "metadata": {
        "id": "W7lC_7pNeTml"
      }
    },
    {
      "cell_type": "markdown",
      "source": [
        "Let's recall how to access data in lists. For that we will leverage the dtaset for this course, whch is the results of an actual beheivoural experiment conducted by Universidad de la Matanza (UNLaM)"
      ],
      "metadata": {
        "id": "n5GNF-_2IFhN"
      }
    },
    {
      "cell_type": "code",
      "source": [
        "%%writefile get_data.sh\n",
        "if [ ! -f dataset.csv ]; then\n",
        "  wget -O dataset.csv https://www.dropbox.com/s/9t5lc04vxwvjvo6/dataset.csv?dl=0\n",
        "fi"
      ],
      "metadata": {
        "colab": {
          "base_uri": "https://localhost:8080/"
        },
        "id": "NzUB82EcIWB8",
        "outputId": "6e008812-754c-4415-cf12-a9e1694ea088"
      },
      "execution_count": 1,
      "outputs": [
        {
          "output_type": "stream",
          "name": "stdout",
          "text": [
            "Writing get_data.sh\n"
          ]
        }
      ]
    },
    {
      "cell_type": "code",
      "source": [
        "!bash get_data.sh\n"
      ],
      "metadata": {
        "id": "hh-cUVYvIgdK",
        "colab": {
          "base_uri": "https://localhost:8080/"
        },
        "outputId": "c837d22a-8c39-4b36-f3b1-19a2877f0d0d"
      },
      "execution_count": 2,
      "outputs": [
        {
          "output_type": "stream",
          "name": "stdout",
          "text": [
            "--2025-05-06 20:47:30--  https://www.dropbox.com/s/9t5lc04vxwvjvo6/dataset.csv?dl=0\n",
            "Resolving www.dropbox.com (www.dropbox.com)... 162.125.5.18, 2620:100:601d:18::a27d:512\n",
            "Connecting to www.dropbox.com (www.dropbox.com)|162.125.5.18|:443... connected.\n",
            "HTTP request sent, awaiting response... 302 Found\n",
            "Location: https://www.dropbox.com/scl/fi/vdpumrhhu5yhwhgmzwday/dataset.csv?rlkey=ezm9dpl2wbkd1tzxqrn2rzrrn&dl=0 [following]\n",
            "--2025-05-06 20:47:31--  https://www.dropbox.com/scl/fi/vdpumrhhu5yhwhgmzwday/dataset.csv?rlkey=ezm9dpl2wbkd1tzxqrn2rzrrn&dl=0\n",
            "Reusing existing connection to www.dropbox.com:443.\n",
            "HTTP request sent, awaiting response... 302 Found\n",
            "Location: https://uccd7e3184fe9441d600dfe2bf87.dl.dropboxusercontent.com/cd/0/inline/CpJhOE2SIJfyHDczeBJnF1Rv9xy7avpe5fNGxtk86Fn5fbw08bwHJVdydqUnnw0TjxDo1ZDTS7xA0GrfrS6Jv7MAv5BHZuazrroYKDLx55VdCzkjvLOAjiq12fUie5Gx8c26baVrc3MPe7sS83u2jtkR/file# [following]\n",
            "--2025-05-06 20:47:31--  https://uccd7e3184fe9441d600dfe2bf87.dl.dropboxusercontent.com/cd/0/inline/CpJhOE2SIJfyHDczeBJnF1Rv9xy7avpe5fNGxtk86Fn5fbw08bwHJVdydqUnnw0TjxDo1ZDTS7xA0GrfrS6Jv7MAv5BHZuazrroYKDLx55VdCzkjvLOAjiq12fUie5Gx8c26baVrc3MPe7sS83u2jtkR/file\n",
            "Resolving uccd7e3184fe9441d600dfe2bf87.dl.dropboxusercontent.com (uccd7e3184fe9441d600dfe2bf87.dl.dropboxusercontent.com)... 162.125.5.15, 2620:100:601d:15::a27d:50f\n",
            "Connecting to uccd7e3184fe9441d600dfe2bf87.dl.dropboxusercontent.com (uccd7e3184fe9441d600dfe2bf87.dl.dropboxusercontent.com)|162.125.5.15|:443... connected.\n",
            "HTTP request sent, awaiting response... 200 OK\n",
            "Length: 5847 (5.7K) [text/plain]\n",
            "Saving to: ‘dataset.csv’\n",
            "\n",
            "dataset.csv         100%[===================>]   5.71K  --.-KB/s    in 0s      \n",
            "\n",
            "2025-05-06 20:47:32 (1.70 GB/s) - ‘dataset.csv’ saved [5847/5847]\n",
            "\n"
          ]
        }
      ]
    },
    {
      "cell_type": "code",
      "execution_count": 3,
      "metadata": {
        "id": "PsZMIKkLHh-4"
      },
      "outputs": [],
      "source": [
        "import numpy as np"
      ]
    },
    {
      "cell_type": "code",
      "source": [
        "numpy_arr = np.genfromtxt('dataset.csv', delimiter=',')"
      ],
      "metadata": {
        "id": "RsLI_E9tpDWd"
      },
      "execution_count": 4,
      "outputs": []
    },
    {
      "cell_type": "markdown",
      "source": [
        "## Indexing with tuples"
      ],
      "metadata": {
        "id": "94H2OqCUpjjX"
      }
    },
    {
      "cell_type": "markdown",
      "source": [
        "Although not commonly known, one can index with tuples and arrays on another numpy array. Let's see it."
      ],
      "metadata": {
        "id": "XGKXUe3Apl6I"
      }
    },
    {
      "cell_type": "code",
      "source": [
        "numpy_arr"
      ],
      "metadata": {
        "colab": {
          "base_uri": "https://localhost:8080/"
        },
        "id": "r2NSbSngpksV",
        "outputId": "318c040c-f4cb-4fa1-b85c-48b89a8cba48"
      },
      "execution_count": 5,
      "outputs": [
        {
          "output_type": "execute_result",
          "data": {
            "text/plain": [
              "array([[  0.  ,   0.  ,   2.  , ...,   3.  ,   2.67,   1.67],\n",
              "       [  1.  ,   0.  ,   4.  , ...,   2.  ,   2.33,  -0.33],\n",
              "       [  2.  ,   0.  ,   3.  , ...,   4.  ,   4.  ,   2.33],\n",
              "       ...,\n",
              "       [196.  ,   2.  ,    nan, ...,    nan,    nan,    nan],\n",
              "       [197.  ,   2.  ,    nan, ...,    nan,    nan,    nan],\n",
              "       [198.  ,   2.  ,    nan, ...,    nan,    nan,    nan]])"
            ]
          },
          "metadata": {},
          "execution_count": 5
        }
      ]
    },
    {
      "cell_type": "code",
      "source": [
        "indexer_tuple = (1,2)\n",
        "print(type(indexer_tuple))"
      ],
      "metadata": {
        "id": "T1tBg25yuq0J",
        "colab": {
          "base_uri": "https://localhost:8080/"
        },
        "outputId": "368935eb-cdde-4c41-d785-3e2e02e522eb"
      },
      "execution_count": 6,
      "outputs": [
        {
          "output_type": "stream",
          "name": "stdout",
          "text": [
            "<class 'tuple'>\n"
          ]
        }
      ]
    },
    {
      "cell_type": "code",
      "source": [
        "numpy_arr[indexer_tuple]"
      ],
      "metadata": {
        "colab": {
          "base_uri": "https://localhost:8080/"
        },
        "id": "ENckc3PbwX33",
        "outputId": "e7f3bf1c-4bb0-4f61-d5eb-5e3a5fa99299"
      },
      "execution_count": 7,
      "outputs": [
        {
          "output_type": "execute_result",
          "data": {
            "text/plain": [
              "np.float64(4.0)"
            ]
          },
          "metadata": {},
          "execution_count": 7
        }
      ]
    },
    {
      "cell_type": "code",
      "source": [
        "numpy_arr[1,2]"
      ],
      "metadata": {
        "colab": {
          "base_uri": "https://localhost:8080/"
        },
        "id": "xZlqTeJ1waLD",
        "outputId": "27ba11ff-391b-4bc6-c57f-521d38559945"
      },
      "execution_count": 8,
      "outputs": [
        {
          "output_type": "execute_result",
          "data": {
            "text/plain": [
              "np.float64(4.0)"
            ]
          },
          "metadata": {},
          "execution_count": 8
        }
      ]
    },
    {
      "cell_type": "markdown",
      "source": [
        "## Indexing with arrays"
      ],
      "metadata": {
        "id": "7Op_8SAeyfeU"
      }
    },
    {
      "cell_type": "markdown",
      "source": [
        "But we can also input numpy arrays!"
      ],
      "metadata": {
        "id": "Z3rNgvsAwiI8"
      }
    },
    {
      "cell_type": "code",
      "source": [
        "indexer_array = np.array([3,4])"
      ],
      "metadata": {
        "id": "9gY9M5Wbweng"
      },
      "execution_count": 9,
      "outputs": []
    },
    {
      "cell_type": "code",
      "source": [
        "type(indexer_array)"
      ],
      "metadata": {
        "colab": {
          "base_uri": "https://localhost:8080/"
        },
        "id": "C9tsG0JZwouu",
        "outputId": "0c1686a7-adc9-4af8-e1ea-556a68a062f5"
      },
      "execution_count": 10,
      "outputs": [
        {
          "output_type": "execute_result",
          "data": {
            "text/plain": [
              "numpy.ndarray"
            ]
          },
          "metadata": {},
          "execution_count": 10
        }
      ]
    },
    {
      "cell_type": "code",
      "source": [
        "numpy_arr[indexer_array]"
      ],
      "metadata": {
        "colab": {
          "base_uri": "https://localhost:8080/"
        },
        "id": "w0bo9NFewqVK",
        "outputId": "45ef83b9-87eb-4362-c577-d3833be9781b"
      },
      "execution_count": 11,
      "outputs": [
        {
          "output_type": "execute_result",
          "data": {
            "text/plain": [
              "array([[3.  , 0.  , 2.  , 0.  , 2.  , 1.33, 5.  , 4.  , 5.  , 4.67, 3.33],\n",
              "       [4.  , 0.  , 3.  , 1.  , 3.  , 2.33, 4.  , 4.  , 5.  , 4.33, 2.  ]])"
            ]
          },
          "metadata": {},
          "execution_count": 11
        }
      ]
    },
    {
      "cell_type": "code",
      "source": [
        "numpy_arr[3,4]"
      ],
      "metadata": {
        "colab": {
          "base_uri": "https://localhost:8080/"
        },
        "id": "au88Jw4SwsWn",
        "outputId": "987d585a-3637-4263-f2c7-5a6acb8eb829"
      },
      "execution_count": 12,
      "outputs": [
        {
          "output_type": "execute_result",
          "data": {
            "text/plain": [
              "np.float64(2.0)"
            ]
          },
          "metadata": {},
          "execution_count": 12
        }
      ]
    },
    {
      "cell_type": "markdown",
      "source": [
        "### What happpened here??? Think about it!"
      ],
      "metadata": {
        "id": "wmFAfaQHxFP_"
      }
    },
    {
      "cell_type": "markdown",
      "source": [
        "Using complex objects as indexers trigger **Advanced indexing** where `arr[[1,2,3]] =! arr[1,2,3]` but `arr[[1,2,3],]` which resolves to:\n",
        "\n",
        "\n",
        "\n",
        "```\n",
        "# All being numpy arrays, not lists\n",
        "arr[[1,2,3]] = array([arr[1], arr[2], arr[3]])\n",
        "```\n",
        "\n",
        "Let's test it out!\n"
      ],
      "metadata": {
        "id": "pIY0As3lxZu9"
      }
    },
    {
      "cell_type": "code",
      "source": [
        "numpy_arr[np.array([2,3])] == np.array([numpy_arr[2], numpy_arr[3]])"
      ],
      "metadata": {
        "colab": {
          "base_uri": "https://localhost:8080/"
        },
        "id": "DiovioqAwv73",
        "outputId": "e63d6fb3-7253-4cc8-9785-1e6e987cc246"
      },
      "execution_count": 13,
      "outputs": [
        {
          "output_type": "execute_result",
          "data": {
            "text/plain": [
              "array([[ True,  True,  True,  True,  True,  True,  True,  True,  True,\n",
              "         True,  True],\n",
              "       [ True,  True,  True,  True,  True,  True,  True,  True,  True,\n",
              "         True,  True]])"
            ]
          },
          "metadata": {},
          "execution_count": 13
        }
      ]
    },
    {
      "cell_type": "markdown",
      "source": [
        "Indeed, it is what we expected. Watch out for this! It may look weird but it allows powerful queries on our numpy arrays."
      ],
      "metadata": {
        "id": "8KGycLtJyViU"
      }
    },
    {
      "cell_type": "markdown",
      "source": [
        "## Boolean indexing"
      ],
      "metadata": {
        "id": "JHE4GZWiJzzR"
      }
    },
    {
      "cell_type": "code",
      "source": [
        "small_arr = numpy_arr[:3, :3]\n",
        "small_arr\n"
      ],
      "metadata": {
        "colab": {
          "base_uri": "https://localhost:8080/"
        },
        "id": "89JWKeHMyNHT",
        "outputId": "f0927f5e-5e70-478b-f4b6-949b1e4ba628"
      },
      "execution_count": 14,
      "outputs": [
        {
          "output_type": "execute_result",
          "data": {
            "text/plain": [
              "array([[0., 0., 2.],\n",
              "       [1., 0., 4.],\n",
              "       [2., 0., 3.]])"
            ]
          },
          "metadata": {},
          "execution_count": 14
        }
      ]
    },
    {
      "cell_type": "code",
      "source": [
        "index = np.where(small_arr > 2)\n",
        "print(index)"
      ],
      "metadata": {
        "colab": {
          "base_uri": "https://localhost:8080/"
        },
        "id": "REIfRTPxys6S",
        "outputId": "dc7c9b7e-7c11-4656-8202-fb21fd7fb5c3"
      },
      "execution_count": 21,
      "outputs": [
        {
          "output_type": "stream",
          "name": "stdout",
          "text": [
            "(array([1, 2]), array([2, 2]))\n"
          ]
        }
      ]
    },
    {
      "cell_type": "markdown",
      "source": [
        "Here we are capturing on every axis if the condition is met, so we know we should get rows 2 and 3 (index 1 and 2), as well as columns 3. The result is:"
      ],
      "metadata": {
        "id": "sT71Y0RWyVMc"
      }
    },
    {
      "cell_type": "code",
      "source": [
        "small_arr[index]"
      ],
      "metadata": {
        "colab": {
          "base_uri": "https://localhost:8080/"
        },
        "id": "cBT0S9zDIooa",
        "outputId": "bd87f20c-dff0-4d02-8afe-c99313a1bf3e"
      },
      "execution_count": 16,
      "outputs": [
        {
          "output_type": "execute_result",
          "data": {
            "text/plain": [
              "array([4., 3.])"
            ]
          },
          "metadata": {},
          "execution_count": 16
        }
      ]
    },
    {
      "cell_type": "markdown",
      "source": [
        "As expected (I hope!) the slice of the third column and final two rows. But we can also use this to delete values"
      ],
      "metadata": {
        "id": "pS6CWohHIvBY"
      }
    },
    {
      "cell_type": "code",
      "source": [
        "np.delete(small_arr, index)"
      ],
      "metadata": {
        "colab": {
          "base_uri": "https://localhost:8080/"
        },
        "id": "pdYmz8otIqGI",
        "outputId": "21f328e3-1120-461c-e9d3-a312637c9838"
      },
      "execution_count": 22,
      "outputs": [
        {
          "output_type": "execute_result",
          "data": {
            "text/plain": [
              "array([0., 1., 0., 4., 2., 0., 3.])"
            ]
          },
          "metadata": {},
          "execution_count": 22
        }
      ]
    },
    {
      "cell_type": "markdown",
      "source": [
        "**Can you guess what operation happened here?**"
      ],
      "metadata": {
        "id": "XXTfHRR-JFOV"
      }
    },
    {
      "cell_type": "code",
      "source": [
        "# We can also use Boolean arrays instead of using indices\n",
        "\n",
        "index = small_arr > 2\n",
        "print(index)\n",
        "new_arr = small_arr[index]"
      ],
      "metadata": {
        "colab": {
          "base_uri": "https://localhost:8080/"
        },
        "id": "6KqoX0JUI43-",
        "outputId": "ed2101ae-d103-4daf-8058-b286578c9417"
      },
      "execution_count": 23,
      "outputs": [
        {
          "output_type": "stream",
          "name": "stdout",
          "text": [
            "[[False False False]\n",
            " [False False  True]\n",
            " [False False  True]]\n"
          ]
        }
      ]
    },
    {
      "cell_type": "code",
      "source": [
        "new_arr"
      ],
      "metadata": {
        "colab": {
          "base_uri": "https://localhost:8080/"
        },
        "id": "FSwyrI1KJUwT",
        "outputId": "2d067039-2121-4b04-f62c-e7a8ae6fa0a4"
      },
      "execution_count": 24,
      "outputs": [
        {
          "output_type": "execute_result",
          "data": {
            "text/plain": [
              "array([4., 3.])"
            ]
          },
          "metadata": {},
          "execution_count": 24
        }
      ]
    },
    {
      "cell_type": "markdown",
      "source": [
        "We can also use Boolean indexing for treatment of NaN values (not a number)\n",
        "\n"
      ],
      "metadata": {
        "id": "rC9uFt11JusB"
      }
    },
    {
      "cell_type": "code",
      "source": [
        "# Notice we have some NaN\n",
        "np.isnan(numpy_arr)"
      ],
      "metadata": {
        "colab": {
          "base_uri": "https://localhost:8080/"
        },
        "id": "6-t0xWfoJawb",
        "outputId": "bc55322b-f83d-4235-db6e-3cd3011e919d"
      },
      "execution_count": 25,
      "outputs": [
        {
          "output_type": "execute_result",
          "data": {
            "text/plain": [
              "array([[False, False, False, ..., False, False, False],\n",
              "       [False, False, False, ..., False, False, False],\n",
              "       [False, False, False, ..., False, False, False],\n",
              "       ...,\n",
              "       [False, False,  True, ...,  True,  True,  True],\n",
              "       [False, False,  True, ...,  True,  True,  True],\n",
              "       [False, False,  True, ...,  True,  True,  True]])"
            ]
          },
          "metadata": {},
          "execution_count": 25
        }
      ]
    },
    {
      "cell_type": "markdown",
      "source": [
        "Convert all NaN to 0:"
      ],
      "metadata": {
        "id": "ZE34frzoKNA4"
      }
    },
    {
      "cell_type": "code",
      "source": [
        "numpy_arr[np.isnan(numpy_arr)] = 0"
      ],
      "metadata": {
        "id": "xEjfwIQDJ-dc"
      },
      "execution_count": 26,
      "outputs": []
    },
    {
      "cell_type": "code",
      "source": [
        "numpy_arr"
      ],
      "metadata": {
        "colab": {
          "base_uri": "https://localhost:8080/"
        },
        "id": "21zm-tx1KTmu",
        "outputId": "34b6e6be-a995-43af-cd5d-d355c1dbc528"
      },
      "execution_count": 27,
      "outputs": [
        {
          "output_type": "execute_result",
          "data": {
            "text/plain": [
              "array([[  0.  ,   0.  ,   2.  , ...,   3.  ,   2.67,   1.67],\n",
              "       [  1.  ,   0.  ,   4.  , ...,   2.  ,   2.33,  -0.33],\n",
              "       [  2.  ,   0.  ,   3.  , ...,   4.  ,   4.  ,   2.33],\n",
              "       ...,\n",
              "       [196.  ,   2.  ,   0.  , ...,   0.  ,   0.  ,   0.  ],\n",
              "       [197.  ,   2.  ,   0.  , ...,   0.  ,   0.  ,   0.  ],\n",
              "       [198.  ,   2.  ,   0.  , ...,   0.  ,   0.  ,   0.  ]])"
            ]
          },
          "metadata": {},
          "execution_count": 27
        }
      ]
    },
    {
      "cell_type": "code",
      "source": [
        "np.isnan(numpy_arr).any()  # -> Returning False means there are no NaNs"
      ],
      "metadata": {
        "colab": {
          "base_uri": "https://localhost:8080/"
        },
        "id": "1nAXYJdtKUMl",
        "outputId": "bb7dfcb6-dacd-4255-9455-72628efa6e87"
      },
      "execution_count": 28,
      "outputs": [
        {
          "output_type": "execute_result",
          "data": {
            "text/plain": [
              "np.False_"
            ]
          },
          "metadata": {},
          "execution_count": 28
        }
      ]
    },
    {
      "cell_type": "markdown",
      "source": [
        "Of course if we use multiple boolean masks the Boolean logic is preserved."
      ],
      "metadata": {
        "id": "leQNgJzaKooJ"
      }
    },
    {
      "cell_type": "markdown",
      "source": [
        "## Combining it all"
      ],
      "metadata": {
        "id": "puemPJJJLhKv"
      }
    },
    {
      "cell_type": "markdown",
      "source": [
        "Finally, we can combine Boolean indexing, slicing and strides to create powerful indexers. Let's look at a simple example:"
      ],
      "metadata": {
        "id": "avx54ssKLjfK"
      }
    },
    {
      "cell_type": "code",
      "source": [
        "arr = np.arange(50).reshape(5,10)\n",
        "print(f'The shape of arr is {arr.shape}')\n",
        "arr"
      ],
      "metadata": {
        "colab": {
          "base_uri": "https://localhost:8080/"
        },
        "id": "lEnGh7fnKata",
        "outputId": "f48edc43-e9f1-46de-b375-fc5a5bcda214"
      },
      "execution_count": 29,
      "outputs": [
        {
          "output_type": "stream",
          "name": "stdout",
          "text": [
            "The shape of arr is (5, 10)\n"
          ]
        },
        {
          "output_type": "execute_result",
          "data": {
            "text/plain": [
              "array([[ 0,  1,  2,  3,  4,  5,  6,  7,  8,  9],\n",
              "       [10, 11, 12, 13, 14, 15, 16, 17, 18, 19],\n",
              "       [20, 21, 22, 23, 24, 25, 26, 27, 28, 29],\n",
              "       [30, 31, 32, 33, 34, 35, 36, 37, 38, 39],\n",
              "       [40, 41, 42, 43, 44, 45, 46, 47, 48, 49]])"
            ]
          },
          "metadata": {},
          "execution_count": 29
        }
      ]
    },
    {
      "cell_type": "code",
      "source": [
        "bool_mask = ( 15 < arr ) & ( arr < 35 )\n",
        "bool_mask"
      ],
      "metadata": {
        "colab": {
          "base_uri": "https://localhost:8080/"
        },
        "id": "8kbbmBVoLwZf",
        "outputId": "3ef9117f-0f36-43f6-b2a1-f92ae6393ab7"
      },
      "execution_count": 30,
      "outputs": [
        {
          "output_type": "execute_result",
          "data": {
            "text/plain": [
              "array([[False, False, False, False, False, False, False, False, False,\n",
              "        False],\n",
              "       [False, False, False, False, False, False,  True,  True,  True,\n",
              "         True],\n",
              "       [ True,  True,  True,  True,  True,  True,  True,  True,  True,\n",
              "         True],\n",
              "       [ True,  True,  True,  True,  True, False, False, False, False,\n",
              "        False],\n",
              "       [False, False, False, False, False, False, False, False, False,\n",
              "        False]])"
            ]
          },
          "metadata": {},
          "execution_count": 30
        }
      ]
    },
    {
      "cell_type": "code",
      "source": [
        "arr[bool_mask[:, 5],2:8:2]"
      ],
      "metadata": {
        "colab": {
          "base_uri": "https://localhost:8080/"
        },
        "id": "hgy2LUegL-sq",
        "outputId": "d2b5eafa-df75-4adf-ada3-281a0c1b1014"
      },
      "execution_count": 31,
      "outputs": [
        {
          "output_type": "execute_result",
          "data": {
            "text/plain": [
              "array([[22, 24, 26]])"
            ]
          },
          "metadata": {},
          "execution_count": 31
        }
      ]
    },
    {
      "cell_type": "markdown",
      "source": [
        "Here we:\n",
        "\n",
        "\n",
        "\n",
        "1.   Created a boolean mask of all the elements more than 15 and less than 35\n",
        "2.   Then sliced that boolean mask getting all the rows but only the index 5 -> 6th column. The output of this slice is the `ndarray` `[False, False, True, False, False]`\n",
        "3.   So, on the rows we will only get the third row -> `[20, 21, 22, 23, 24, 25, 26, 27, 28, 29]`\n",
        "4.   Over that result we wil slice with striding the following way: `2:8:2` so we start on the third element and go every two until the 9th element.\n",
        "5.   The output then is `[22, 24, 26]` (we don't include `28` since the end of the slice is not inclusive)\n",
        "\n"
      ],
      "metadata": {
        "id": "BnYKTYBTM40_"
      }
    },
    {
      "cell_type": "code",
      "source": [],
      "metadata": {
        "id": "g3pv_JYCMYbN"
      },
      "execution_count": null,
      "outputs": []
    }
  ]
}