{
  "nbformat": 4,
  "nbformat_minor": 0,
  "metadata": {
    "colab": {
      "provenance": [],
      "include_colab_link": true
    },
    "kernelspec": {
      "name": "python3",
      "display_name": "Python 3"
    },
    "language_info": {
      "name": "python"
    }
  },
  "cells": [
    {
      "cell_type": "markdown",
      "metadata": {
        "id": "view-in-github",
        "colab_type": "text"
      },
      "source": [
        "<a href=\"https://colab.research.google.com/github/gauravml/NUMPY/blob/main/NumpySort%26Search.ipynb\" target=\"_parent\"><img src=\"https://colab.research.google.com/assets/colab-badge.svg\" alt=\"Open In Colab\"/></a>"
      ]
    },
    {
      "cell_type": "markdown",
      "source": [
        "# Arithmetic on Numpy"
      ],
      "metadata": {
        "id": "kJ1k7bOkICai"
      }
    },
    {
      "cell_type": "markdown",
      "source": [
        "## Prep"
      ],
      "metadata": {
        "id": "W7lC_7pNeTml"
      }
    },
    {
      "cell_type": "markdown",
      "source": [
        "Let's recall how to access data in lists. For that we will leverage the dtaset for this course, whch is the results of an actual beheivoural experiment conducted by Universidad de la Matanza (UNLaM)"
      ],
      "metadata": {
        "id": "n5GNF-_2IFhN"
      }
    },
    {
      "cell_type": "code",
      "source": [
        "%%writefile get_data.sh\n",
        "if [ ! -f dataset.csv ]; then\n",
        "  wget -O dataset.csv https://www.dropbox.com/s/9t5lc04vxwvjvo6/dataset.csv?dl=0\n",
        "fi"
      ],
      "metadata": {
        "colab": {
          "base_uri": "https://localhost:8080/"
        },
        "id": "NzUB82EcIWB8",
        "outputId": "0a26ffd1-31e9-4237-fd51-6e8194c608cc"
      },
      "execution_count": 1,
      "outputs": [
        {
          "output_type": "stream",
          "name": "stdout",
          "text": [
            "Writing get_data.sh\n"
          ]
        }
      ]
    },
    {
      "cell_type": "code",
      "source": [
        "!bash get_data.sh\n"
      ],
      "metadata": {
        "id": "hh-cUVYvIgdK",
        "outputId": "133e8e37-ceae-4008-9383-e4e29238db24",
        "colab": {
          "base_uri": "https://localhost:8080/"
        }
      },
      "execution_count": 2,
      "outputs": [
        {
          "output_type": "stream",
          "name": "stdout",
          "text": [
            "--2025-05-06 22:10:25--  https://www.dropbox.com/s/9t5lc04vxwvjvo6/dataset.csv?dl=0\n",
            "Resolving www.dropbox.com (www.dropbox.com)... 162.125.3.18, 2620:100:6018:18::a27d:312\n",
            "Connecting to www.dropbox.com (www.dropbox.com)|162.125.3.18|:443... connected.\n",
            "HTTP request sent, awaiting response... 302 Found\n",
            "Location: https://www.dropbox.com/scl/fi/vdpumrhhu5yhwhgmzwday/dataset.csv?rlkey=ezm9dpl2wbkd1tzxqrn2rzrrn&dl=0 [following]\n",
            "--2025-05-06 22:10:25--  https://www.dropbox.com/scl/fi/vdpumrhhu5yhwhgmzwday/dataset.csv?rlkey=ezm9dpl2wbkd1tzxqrn2rzrrn&dl=0\n",
            "Reusing existing connection to www.dropbox.com:443.\n",
            "HTTP request sent, awaiting response... 302 Found\n",
            "Location: https://ucc8af9e8b8cf39f9c5b8cc15aa3.dl.dropboxusercontent.com/cd/0/inline/CpNTnoQIK44sZd8fUEqGu6ieu1niW5keV8kqwzJOSPOri92ZoTWbVXg9m2NpH94UxlZfpB1x26eoZhk-drYzrLGN7Lq81_xCyB0fYRekw7ok44djIYWAzUyYTD3Q2EBavX4a92G7i-trLzXFSEP6-x6z/file# [following]\n",
            "--2025-05-06 22:10:26--  https://ucc8af9e8b8cf39f9c5b8cc15aa3.dl.dropboxusercontent.com/cd/0/inline/CpNTnoQIK44sZd8fUEqGu6ieu1niW5keV8kqwzJOSPOri92ZoTWbVXg9m2NpH94UxlZfpB1x26eoZhk-drYzrLGN7Lq81_xCyB0fYRekw7ok44djIYWAzUyYTD3Q2EBavX4a92G7i-trLzXFSEP6-x6z/file\n",
            "Resolving ucc8af9e8b8cf39f9c5b8cc15aa3.dl.dropboxusercontent.com (ucc8af9e8b8cf39f9c5b8cc15aa3.dl.dropboxusercontent.com)... 162.125.5.15, 2620:100:6018:15::a27d:30f\n",
            "Connecting to ucc8af9e8b8cf39f9c5b8cc15aa3.dl.dropboxusercontent.com (ucc8af9e8b8cf39f9c5b8cc15aa3.dl.dropboxusercontent.com)|162.125.5.15|:443... connected.\n",
            "HTTP request sent, awaiting response... 200 OK\n",
            "Length: 5847 (5.7K) [text/plain]\n",
            "Saving to: ‘dataset.csv’\n",
            "\n",
            "dataset.csv         100%[===================>]   5.71K  --.-KB/s    in 0s      \n",
            "\n",
            "2025-05-06 22:10:26 (2.16 GB/s) - ‘dataset.csv’ saved [5847/5847]\n",
            "\n"
          ]
        }
      ]
    },
    {
      "cell_type": "code",
      "execution_count": 3,
      "metadata": {
        "id": "PsZMIKkLHh-4"
      },
      "outputs": [],
      "source": [
        "import numpy as np"
      ]
    },
    {
      "cell_type": "code",
      "source": [
        "numpy_arr = np.genfromtxt('dataset.csv', delimiter=',')"
      ],
      "metadata": {
        "id": "RsLI_E9tpDWd"
      },
      "execution_count": 4,
      "outputs": []
    },
    {
      "cell_type": "markdown",
      "source": [
        "## Basic Sorting in NumPy"
      ],
      "metadata": {
        "id": "l2OfZAJOKWPh"
      }
    },
    {
      "cell_type": "markdown",
      "source": [
        "There is one basic method for sorting a NumPy array, and a couple of auxiliary methods. Let's review them.\n",
        "\n",
        "The basic method is `np.sort(arr)`"
      ],
      "metadata": {
        "id": "Imyehb-yTAQB"
      }
    },
    {
      "cell_type": "code",
      "source": [
        "a = numpy_arr[3, :11]\n",
        "a"
      ],
      "metadata": {
        "id": "y_YFmddDTKI7",
        "colab": {
          "base_uri": "https://localhost:8080/"
        },
        "outputId": "e1aa3d53-cec6-40a1-9d51-d5c48ea0c706"
      },
      "execution_count": 5,
      "outputs": [
        {
          "output_type": "execute_result",
          "data": {
            "text/plain": [
              "array([3.  , 0.  , 2.  , 0.  , 2.  , 1.33, 5.  , 4.  , 5.  , 4.67, 3.33])"
            ]
          },
          "metadata": {},
          "execution_count": 5
        }
      ]
    },
    {
      "cell_type": "code",
      "source": [
        "np.sort(a)"
      ],
      "metadata": {
        "id": "IlPXf8xNUtVP",
        "colab": {
          "base_uri": "https://localhost:8080/"
        },
        "outputId": "2f359ad1-eac6-40d7-83fb-b7d220f39cc8"
      },
      "execution_count": 6,
      "outputs": [
        {
          "output_type": "execute_result",
          "data": {
            "text/plain": [
              "array([0.  , 0.  , 1.33, 2.  , 2.  , 3.  , 3.33, 4.  , 4.67, 5.  , 5.  ])"
            ]
          },
          "metadata": {},
          "execution_count": 6
        }
      ]
    },
    {
      "cell_type": "markdown",
      "source": [
        "Notice the end result is sorted (in numerical order). If we provide a hiher dimensional array let's see what happens"
      ],
      "metadata": {
        "id": "RvRmQDUQstvx"
      }
    },
    {
      "cell_type": "code",
      "source": [
        "b = numpy_arr[1:3, :11]\n",
        "b"
      ],
      "metadata": {
        "colab": {
          "base_uri": "https://localhost:8080/"
        },
        "id": "U_VhB1bissL_",
        "outputId": "de364250-219e-4be1-d790-fbb1fc839393"
      },
      "execution_count": 8,
      "outputs": [
        {
          "output_type": "execute_result",
          "data": {
            "text/plain": [
              "array([[ 1.  ,  0.  ,  4.  ,  0.  ,  4.  ,  2.67,  3.  ,  2.  ,  2.  ,\n",
              "         2.33, -0.33],\n",
              "       [ 2.  ,  0.  ,  3.  ,  0.  ,  2.  ,  1.67,  4.  ,  4.  ,  4.  ,\n",
              "         4.  ,  2.33]])"
            ]
          },
          "metadata": {},
          "execution_count": 8
        }
      ]
    },
    {
      "cell_type": "code",
      "source": [
        "np.sort(b)"
      ],
      "metadata": {
        "colab": {
          "base_uri": "https://localhost:8080/"
        },
        "id": "UtYH779WtOOs",
        "outputId": "06cd9701-c0da-4b93-ab26-c45d26f8f039"
      },
      "execution_count": 9,
      "outputs": [
        {
          "output_type": "execute_result",
          "data": {
            "text/plain": [
              "array([[-0.33,  0.  ,  0.  ,  1.  ,  2.  ,  2.  ,  2.33,  2.67,  3.  ,\n",
              "         4.  ,  4.  ],\n",
              "       [ 0.  ,  0.  ,  1.67,  2.  ,  2.  ,  2.33,  3.  ,  4.  ,  4.  ,\n",
              "         4.  ,  4.  ]])"
            ]
          },
          "metadata": {},
          "execution_count": 9
        }
      ]
    },
    {
      "cell_type": "markdown",
      "source": [
        "So, running `np.sort` on a numpy array applies the sort function per row, that means it applies over columns (which is the last axis)"
      ],
      "metadata": {
        "id": "ZQoa0EHKtZCt"
      }
    },
    {
      "cell_type": "code",
      "source": [
        "np.sort(b, axis=0)"
      ],
      "metadata": {
        "colab": {
          "base_uri": "https://localhost:8080/"
        },
        "id": "-MVVny6dtPVs",
        "outputId": "d891b041-d1cb-4bc9-beb9-869544a21600"
      },
      "execution_count": 10,
      "outputs": [
        {
          "output_type": "execute_result",
          "data": {
            "text/plain": [
              "array([[ 1.  ,  0.  ,  3.  ,  0.  ,  2.  ,  1.67,  3.  ,  2.  ,  2.  ,\n",
              "         2.33, -0.33],\n",
              "       [ 2.  ,  0.  ,  4.  ,  0.  ,  4.  ,  2.67,  4.  ,  4.  ,  4.  ,\n",
              "         4.  ,  2.33]])"
            ]
          },
          "metadata": {},
          "execution_count": 10
        }
      ]
    },
    {
      "cell_type": "markdown",
      "source": [
        "As expected then, if we change the axis to apply oer column over all rows, we get a different array.\n",
        "\n",
        "**Lesson: np.sort applies over the last dimension by default**"
      ],
      "metadata": {
        "id": "Ax9wfA3kti7p"
      }
    },
    {
      "cell_type": "markdown",
      "source": [
        "Let's see what happens if we change the resulting array or not"
      ],
      "metadata": {
        "id": "bcwXp6Fltzgk"
      }
    },
    {
      "cell_type": "code",
      "source": [
        "a = numpy_arr[2, :11]\n",
        "a"
      ],
      "metadata": {
        "colab": {
          "base_uri": "https://localhost:8080/"
        },
        "id": "87q53jSLtQ3z",
        "outputId": "44b94c59-c7ee-4cb5-c57f-2a8095e5ed83"
      },
      "execution_count": 11,
      "outputs": [
        {
          "output_type": "execute_result",
          "data": {
            "text/plain": [
              "array([2.  , 0.  , 3.  , 0.  , 2.  , 1.67, 4.  , 4.  , 4.  , 4.  , 2.33])"
            ]
          },
          "metadata": {},
          "execution_count": 11
        }
      ]
    },
    {
      "cell_type": "code",
      "source": [
        "b = np.sort(a)\n",
        "b"
      ],
      "metadata": {
        "colab": {
          "base_uri": "https://localhost:8080/"
        },
        "id": "nxXHwGxVuAg_",
        "outputId": "b601163d-c97e-4275-c192-f4f5bbb13045"
      },
      "execution_count": 12,
      "outputs": [
        {
          "output_type": "execute_result",
          "data": {
            "text/plain": [
              "array([0.  , 0.  , 1.67, 2.  , 2.  , 2.33, 3.  , 4.  , 4.  , 4.  , 4.  ])"
            ]
          },
          "metadata": {},
          "execution_count": 12
        }
      ]
    },
    {
      "cell_type": "code",
      "source": [
        "b[2] = -100\n",
        "b"
      ],
      "metadata": {
        "colab": {
          "base_uri": "https://localhost:8080/"
        },
        "id": "x8xlgkEVuCur",
        "outputId": "ffb6461d-a493-4f49-fea4-d52c2ab5f975"
      },
      "execution_count": 13,
      "outputs": [
        {
          "output_type": "execute_result",
          "data": {
            "text/plain": [
              "array([   0.  ,    0.  , -100.  ,    2.  ,    2.  ,    2.33,    3.  ,\n",
              "          4.  ,    4.  ,    4.  ,    4.  ])"
            ]
          },
          "metadata": {},
          "execution_count": 13
        }
      ]
    },
    {
      "cell_type": "code",
      "source": [
        "a"
      ],
      "metadata": {
        "colab": {
          "base_uri": "https://localhost:8080/"
        },
        "id": "wGiHattXuF_V",
        "outputId": "811a44d4-147a-4616-a5a6-9fb05b624e6e"
      },
      "execution_count": 14,
      "outputs": [
        {
          "output_type": "execute_result",
          "data": {
            "text/plain": [
              "array([2.  , 0.  , 3.  , 0.  , 2.  , 1.67, 4.  , 4.  , 4.  , 4.  , 2.33])"
            ]
          },
          "metadata": {},
          "execution_count": 14
        }
      ]
    },
    {
      "cell_type": "markdown",
      "source": [
        "Notice that a did not change!\n",
        "\n",
        "**Lesson: `np.sort()` returns a copy**"
      ],
      "metadata": {
        "id": "pAP5nB2MuHq1"
      }
    },
    {
      "cell_type": "code",
      "source": [
        "a.sort()\n",
        "a"
      ],
      "metadata": {
        "colab": {
          "base_uri": "https://localhost:8080/"
        },
        "id": "JvvsTCkWuGjS",
        "outputId": "25f839de-dc85-4b32-be10-9a472f4720c5"
      },
      "execution_count": 15,
      "outputs": [
        {
          "output_type": "execute_result",
          "data": {
            "text/plain": [
              "array([0.  , 0.  , 1.67, 2.  , 2.  , 2.33, 3.  , 4.  , 4.  , 4.  , 4.  ])"
            ]
          },
          "metadata": {},
          "execution_count": 15
        }
      ]
    },
    {
      "cell_type": "code",
      "source": [
        "numpy_arr[2,:]"
      ],
      "metadata": {
        "colab": {
          "base_uri": "https://localhost:8080/"
        },
        "id": "__mOkc3luaTt",
        "outputId": "c30c9983-c3e8-41a3-f741-7c32ffe22337"
      },
      "execution_count": 16,
      "outputs": [
        {
          "output_type": "execute_result",
          "data": {
            "text/plain": [
              "array([0.  , 0.  , 1.67, 2.  , 2.  , 2.33, 3.  , 4.  , 4.  , 4.  , 4.  ])"
            ]
          },
          "metadata": {},
          "execution_count": 16
        }
      ]
    },
    {
      "cell_type": "markdown",
      "source": [
        "However `arr.sort()` does modify the array inplace. BEWARE of this.\n",
        "\n",
        "**Lesson: arr.sort() method modifies the numpy array inplace, along with all it's views.**"
      ],
      "metadata": {
        "id": "v--arK97ug01"
      }
    },
    {
      "cell_type": "markdown",
      "source": [
        "Finally, one may want the indices to sort, instead of actually sorting. In that case you can use `np.argsort`"
      ],
      "metadata": {
        "id": "kea7CxYcuygj"
      }
    },
    {
      "cell_type": "code",
      "source": [
        "a = numpy_arr[1, :]\n",
        "a"
      ],
      "metadata": {
        "colab": {
          "base_uri": "https://localhost:8080/"
        },
        "id": "ajiVGWBkueeG",
        "outputId": "8212f715-90d3-4ec1-8806-673350596382"
      },
      "execution_count": 17,
      "outputs": [
        {
          "output_type": "execute_result",
          "data": {
            "text/plain": [
              "array([ 1.  ,  0.  ,  4.  ,  0.  ,  4.  ,  2.67,  3.  ,  2.  ,  2.  ,\n",
              "        2.33, -0.33])"
            ]
          },
          "metadata": {},
          "execution_count": 17
        }
      ]
    },
    {
      "cell_type": "code",
      "source": [
        "np.argsort(a)"
      ],
      "metadata": {
        "colab": {
          "base_uri": "https://localhost:8080/"
        },
        "id": "zdGznoR9vBSA",
        "outputId": "4fe998a1-c498-4608-8f21-910e484c5405"
      },
      "execution_count": 18,
      "outputs": [
        {
          "output_type": "execute_result",
          "data": {
            "text/plain": [
              "array([10,  1,  3,  0,  8,  7,  9,  5,  6,  2,  4])"
            ]
          },
          "metadata": {},
          "execution_count": 18
        }
      ]
    },
    {
      "cell_type": "markdown",
      "source": [
        "Of course, getting those values in that order returns in the sorted array"
      ],
      "metadata": {
        "id": "lrjC6DK5vGKU"
      }
    },
    {
      "cell_type": "code",
      "source": [
        "a[np.argsort(a)]"
      ],
      "metadata": {
        "colab": {
          "base_uri": "https://localhost:8080/"
        },
        "id": "mePZo0wsvEq_",
        "outputId": "8af657a3-2c3b-4f3e-fa2f-ddcae6838faa"
      },
      "execution_count": 19,
      "outputs": [
        {
          "output_type": "execute_result",
          "data": {
            "text/plain": [
              "array([-0.33,  0.  ,  0.  ,  1.  ,  2.  ,  2.  ,  2.33,  2.67,  3.  ,\n",
              "        4.  ,  4.  ])"
            ]
          },
          "metadata": {},
          "execution_count": 19
        }
      ]
    },
    {
      "cell_type": "code",
      "source": [],
      "metadata": {
        "id": "g3hOzuDvvKZb"
      },
      "execution_count": null,
      "outputs": []
    },
    {
      "cell_type": "markdown",
      "source": [
        "## Searching NumPy Arrays"
      ],
      "metadata": {
        "id": "SQFN5Ymfvapv"
      }
    },
    {
      "cell_type": "markdown",
      "source": [
        "Actualy we have seen this already, but let's take it as a refresher. To search for an element in an array we normally use `indexers`. A way to create indexers are via the `where` statement"
      ],
      "metadata": {
        "id": "7taCRvfQvsBp"
      }
    },
    {
      "cell_type": "code",
      "source": [
        "a"
      ],
      "metadata": {
        "colab": {
          "base_uri": "https://localhost:8080/"
        },
        "id": "zxkevc2DvdJl",
        "outputId": "ea62c2cf-4175-4a40-9aaf-d616f08c6c62"
      },
      "execution_count": 20,
      "outputs": [
        {
          "output_type": "execute_result",
          "data": {
            "text/plain": [
              "array([ 1.  ,  0.  ,  4.  ,  0.  ,  4.  ,  2.67,  3.  ,  2.  ,  2.  ,\n",
              "        2.33, -0.33])"
            ]
          },
          "metadata": {},
          "execution_count": 20
        }
      ]
    },
    {
      "cell_type": "code",
      "source": [
        "index = np.where(a == 4)\n",
        "index"
      ],
      "metadata": {
        "colab": {
          "base_uri": "https://localhost:8080/"
        },
        "id": "o2DeYI_bv46m",
        "outputId": "a50cbf79-3ce4-4382-82be-d74c68a326d6"
      },
      "execution_count": 21,
      "outputs": [
        {
          "output_type": "execute_result",
          "data": {
            "text/plain": [
              "(array([2, 4]),)"
            ]
          },
          "metadata": {},
          "execution_count": 21
        }
      ]
    },
    {
      "cell_type": "markdown",
      "source": [
        "This means that on index 2 and 4 (third and fifth position) we will have a 4, and indeed it is. To retrieve the values..."
      ],
      "metadata": {
        "id": "RvZNBXpnyaUB"
      }
    },
    {
      "cell_type": "code",
      "source": [
        "a[index]"
      ],
      "metadata": {
        "colab": {
          "base_uri": "https://localhost:8080/"
        },
        "id": "jcOEE_cNv9ss",
        "outputId": "1fb71083-6906-4684-f7e8-bb71860b345b"
      },
      "execution_count": 22,
      "outputs": [
        {
          "output_type": "execute_result",
          "data": {
            "text/plain": [
              "array([4., 4.])"
            ]
          },
          "metadata": {},
          "execution_count": 22
        }
      ]
    },
    {
      "cell_type": "markdown",
      "source": [
        "In more dimensions:"
      ],
      "metadata": {
        "id": "3hZmqw2Dykw4"
      }
    },
    {
      "cell_type": "code",
      "source": [
        "a = numpy_arr[2:5, :]\n",
        "a"
      ],
      "metadata": {
        "colab": {
          "base_uri": "https://localhost:8080/"
        },
        "id": "EXatwCG3yi5u",
        "outputId": "9a6d391a-5cb2-4fb1-f9f8-69d215bf1486"
      },
      "execution_count": 23,
      "outputs": [
        {
          "output_type": "execute_result",
          "data": {
            "text/plain": [
              "array([[0.  , 0.  , 1.67, 2.  , 2.  , 2.33, 3.  , 4.  , 4.  , 4.  , 4.  ],\n",
              "       [3.  , 0.  , 2.  , 0.  , 2.  , 1.33, 5.  , 4.  , 5.  , 4.67, 3.33],\n",
              "       [4.  , 0.  , 3.  , 1.  , 3.  , 2.33, 4.  , 4.  , 5.  , 4.33, 2.  ]])"
            ]
          },
          "metadata": {},
          "execution_count": 23
        }
      ]
    },
    {
      "cell_type": "code",
      "source": [
        "np.where(a < 4)"
      ],
      "metadata": {
        "colab": {
          "base_uri": "https://localhost:8080/"
        },
        "id": "1IixQBjOypSE",
        "outputId": "baebd8f6-721c-458d-8eb0-3f78f566c575"
      },
      "execution_count": 24,
      "outputs": [
        {
          "output_type": "execute_result",
          "data": {
            "text/plain": [
              "(array([0, 0, 0, 0, 0, 0, 0, 1, 1, 1, 1, 1, 1, 1, 2, 2, 2, 2, 2, 2]),\n",
              " array([ 0,  1,  2,  3,  4,  5,  6,  0,  1,  2,  3,  4,  5, 10,  1,  2,  3,\n",
              "         4,  5, 10]))"
            ]
          },
          "metadata": {},
          "execution_count": 24
        }
      ]
    },
    {
      "cell_type": "markdown",
      "source": [
        "Here it may look weird so let's explain the full structure of the indexer. On the first element of the tuple refers to the index on the first axis. Having 7 0s mean that 7 elements of the first row comply with the condition. The question is which ones?\n",
        "\n",
        "For that we go to the second tuple, that gives the indices. As an example the we can find the following element:\n",
        "\n",
        "```\n",
        "(1,10)\n",
        "```\n",
        "\n",
        "in our indexer tuple (align the arrays as columns and get the row). Indeed if we check:\n",
        "\n",
        "```\n",
        "a[1,10] = 3.33 < 4\n",
        "```"
      ],
      "metadata": {
        "id": "sZBYJcUpzZHx"
      }
    },
    {
      "cell_type": "code",
      "source": [
        "a[np.where(a < 4)]"
      ],
      "metadata": {
        "colab": {
          "base_uri": "https://localhost:8080/"
        },
        "id": "N_llQ4b7y9Aa",
        "outputId": "10dbb264-3e18-4c09-deae-c737ca2038bb"
      },
      "execution_count": 25,
      "outputs": [
        {
          "output_type": "execute_result",
          "data": {
            "text/plain": [
              "array([0.  , 0.  , 1.67, 2.  , 2.  , 2.33, 3.  , 3.  , 0.  , 2.  , 0.  ,\n",
              "       2.  , 1.33, 3.33, 0.  , 3.  , 1.  , 3.  , 2.33, 2.  ])"
            ]
          },
          "metadata": {},
          "execution_count": 25
        }
      ]
    },
    {
      "cell_type": "markdown",
      "source": [
        "Evaluating the full indexer returns a 1D array of all elements that comply. But what if we want to keep the structure? Then we need to pass an element too fill"
      ],
      "metadata": {
        "id": "-Xk4iDAx0N76"
      }
    },
    {
      "cell_type": "code",
      "source": [
        "np.where(a < 4, a, -100)"
      ],
      "metadata": {
        "colab": {
          "base_uri": "https://localhost:8080/"
        },
        "id": "lSeZudokzEfZ",
        "outputId": "768393fc-25d6-4cdb-8159-f77e7e010055"
      },
      "execution_count": 26,
      "outputs": [
        {
          "output_type": "execute_result",
          "data": {
            "text/plain": [
              "array([[   0.  ,    0.  ,    1.67,    2.  ,    2.  ,    2.33,    3.  ,\n",
              "        -100.  , -100.  , -100.  , -100.  ],\n",
              "       [   3.  ,    0.  ,    2.  ,    0.  ,    2.  ,    1.33, -100.  ,\n",
              "        -100.  , -100.  , -100.  ,    3.33],\n",
              "       [-100.  ,    0.  ,    3.  ,    1.  ,    3.  ,    2.33, -100.  ,\n",
              "        -100.  , -100.  , -100.  ,    2.  ]])"
            ]
          },
          "metadata": {},
          "execution_count": 26
        }
      ]
    },
    {
      "cell_type": "code",
      "source": [
        "a"
      ],
      "metadata": {
        "colab": {
          "base_uri": "https://localhost:8080/"
        },
        "id": "eI_ycu2l0dt6",
        "outputId": "2454a991-ade0-4e22-8467-c6f8174ec0ec"
      },
      "execution_count": 27,
      "outputs": [
        {
          "output_type": "execute_result",
          "data": {
            "text/plain": [
              "array([[0.  , 0.  , 1.67, 2.  , 2.  , 2.33, 3.  , 4.  , 4.  , 4.  , 4.  ],\n",
              "       [3.  , 0.  , 2.  , 0.  , 2.  , 1.33, 5.  , 4.  , 5.  , 4.67, 3.33],\n",
              "       [4.  , 0.  , 3.  , 1.  , 3.  , 2.33, 4.  , 4.  , 5.  , 4.33, 2.  ]])"
            ]
          },
          "metadata": {},
          "execution_count": 27
        }
      ]
    },
    {
      "cell_type": "markdown",
      "source": [
        "Notice that passing the broadcaster we got *a copy* swaping the elements that don't match a condition with a sentinel value"
      ],
      "metadata": {
        "id": "f31l-88l0rxg"
      }
    },
    {
      "cell_type": "markdown",
      "source": [
        "Note that, one can pass to the where statement any expression that evaluates to `True` or `False`"
      ],
      "metadata": {
        "id": "O0IfiI8g090o"
      }
    },
    {
      "cell_type": "code",
      "source": [
        "a = numpy_arr[4, :]\n",
        "a"
      ],
      "metadata": {
        "colab": {
          "base_uri": "https://localhost:8080/"
        },
        "id": "ww_36u5v0qYx",
        "outputId": "7da6532b-27f2-4150-9851-71cc31da14a5"
      },
      "execution_count": 28,
      "outputs": [
        {
          "output_type": "execute_result",
          "data": {
            "text/plain": [
              "array([4.  , 0.  , 3.  , 1.  , 3.  , 2.33, 4.  , 4.  , 5.  , 4.33, 2.  ])"
            ]
          },
          "metadata": {},
          "execution_count": 28
        }
      ]
    },
    {
      "cell_type": "code",
      "source": [
        "np.where(a < 4)"
      ],
      "metadata": {
        "colab": {
          "base_uri": "https://localhost:8080/"
        },
        "id": "u2IFO3Z11Mca",
        "outputId": "62775b7b-2c20-49ba-9c78-842ad3168e61"
      },
      "execution_count": 29,
      "outputs": [
        {
          "output_type": "execute_result",
          "data": {
            "text/plain": [
              "(array([ 1,  2,  3,  4,  5, 10]),)"
            ]
          },
          "metadata": {},
          "execution_count": 29
        }
      ]
    },
    {
      "cell_type": "code",
      "source": [
        "def less4(x):\n",
        "  print(f'I got called to evaluate {x}')\n",
        "  return x < 4"
      ],
      "metadata": {
        "id": "j7uURvAh1Oms"
      },
      "execution_count": 31,
      "outputs": []
    },
    {
      "cell_type": "code",
      "source": [
        "np.where(less4(a))"
      ],
      "metadata": {
        "colab": {
          "base_uri": "https://localhost:8080/"
        },
        "id": "NPYI69U-1VVc",
        "outputId": "f508fdd0-346a-40d6-c32d-5205990a4222"
      },
      "execution_count": 32,
      "outputs": [
        {
          "output_type": "stream",
          "name": "stdout",
          "text": [
            "I got called to evaluate [4.   0.   3.   1.   3.   2.33 4.   4.   5.   4.33 2.  ]\n"
          ]
        },
        {
          "output_type": "execute_result",
          "data": {
            "text/plain": [
              "(array([ 1,  2,  3,  4,  5, 10]),)"
            ]
          },
          "metadata": {},
          "execution_count": 32
        }
      ]
    },
    {
      "cell_type": "markdown",
      "source": [
        "To end search, if we want to find the maximum of an array we can do so without sorting it (which is memory inefficient)"
      ],
      "metadata": {
        "id": "X7RAYTZx1veG"
      }
    },
    {
      "cell_type": "code",
      "source": [
        "a"
      ],
      "metadata": {
        "colab": {
          "base_uri": "https://localhost:8080/"
        },
        "id": "G16RuMDl1gGc",
        "outputId": "df659b2d-87d1-4a65-f1fc-7b7656e818db"
      },
      "execution_count": 33,
      "outputs": [
        {
          "output_type": "execute_result",
          "data": {
            "text/plain": [
              "array([4.  , 0.  , 3.  , 1.  , 3.  , 2.33, 4.  , 4.  , 5.  , 4.33, 2.  ])"
            ]
          },
          "metadata": {},
          "execution_count": 33
        }
      ]
    },
    {
      "cell_type": "code",
      "source": [
        "np.argmax(a)"
      ],
      "metadata": {
        "colab": {
          "base_uri": "https://localhost:8080/"
        },
        "id": "fYIaoHli2RgO",
        "outputId": "5acb50cd-3d65-433e-ab39-ca2efe5f02ca"
      },
      "execution_count": 34,
      "outputs": [
        {
          "output_type": "execute_result",
          "data": {
            "text/plain": [
              "np.int64(8)"
            ]
          },
          "metadata": {},
          "execution_count": 34
        }
      ]
    },
    {
      "cell_type": "code",
      "source": [
        "a[np.argmax(a)]"
      ],
      "metadata": {
        "colab": {
          "base_uri": "https://localhost:8080/"
        },
        "id": "iZYHizd22TgI",
        "outputId": "b056a312-4978-4df4-fb98-07f70c05faf1"
      },
      "execution_count": 35,
      "outputs": [
        {
          "output_type": "execute_result",
          "data": {
            "text/plain": [
              "np.float64(5.0)"
            ]
          },
          "metadata": {},
          "execution_count": 35
        }
      ]
    },
    {
      "cell_type": "markdown",
      "source": [
        "Indeed, 5 is the maximum."
      ],
      "metadata": {
        "id": "blgGM3vA2XWu"
      }
    },
    {
      "cell_type": "code",
      "source": [],
      "metadata": {
        "id": "4M4SMIQ52WWO"
      },
      "execution_count": null,
      "outputs": []
    }
  ]
}