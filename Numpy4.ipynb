{
  "nbformat": 4,
  "nbformat_minor": 0,
  "metadata": {
    "colab": {
      "provenance": [],
      "include_colab_link": true
    },
    "kernelspec": {
      "name": "python3",
      "display_name": "Python 3"
    },
    "language_info": {
      "name": "python"
    }
  },
  "cells": [
    {
      "cell_type": "markdown",
      "metadata": {
        "id": "view-in-github",
        "colab_type": "text"
      },
      "source": [
        "<a href=\"https://colab.research.google.com/github/gauravml/NUMPY/blob/main/Numpy4.ipynb\" target=\"_parent\"><img src=\"https://colab.research.google.com/assets/colab-badge.svg\" alt=\"Open In Colab\"/></a>"
      ]
    },
    {
      "cell_type": "markdown",
      "source": [
        "# Broadcasting on Numpy"
      ],
      "metadata": {
        "id": "kJ1k7bOkICai"
      }
    },
    {
      "cell_type": "markdown",
      "source": [
        "## What is Broadcasting?"
      ],
      "metadata": {
        "id": "uR0Zvi-vUDpg"
      }
    },
    {
      "cell_type": "markdown",
      "source": [
        "Let's see how operations work with numpy array, both when dimensions are equal as well as when they are not"
      ],
      "metadata": {
        "id": "kmSeqffPSKrt"
      }
    },
    {
      "cell_type": "code",
      "source": [
        "import numpy as np"
      ],
      "metadata": {
        "id": "pLasFBz-R-7U"
      },
      "execution_count": 2,
      "outputs": []
    },
    {
      "cell_type": "code",
      "source": [
        "arr = np.arange(6)\n",
        "scalar = np.array([2.0]*6)"
      ],
      "metadata": {
        "id": "g3pv_JYCMYbN"
      },
      "execution_count": 3,
      "outputs": []
    },
    {
      "cell_type": "code",
      "source": [
        "arr"
      ],
      "metadata": {
        "id": "ZqZaoQXifBlt",
        "outputId": "44f1bb16-f752-43b0-c557-d16f5a57fddc",
        "colab": {
          "base_uri": "https://localhost:8080/"
        }
      },
      "execution_count": 4,
      "outputs": [
        {
          "output_type": "execute_result",
          "data": {
            "text/plain": [
              "array([0, 1, 2, 3, 4, 5])"
            ]
          },
          "metadata": {},
          "execution_count": 4
        }
      ]
    },
    {
      "cell_type": "code",
      "source": [
        "scalar"
      ],
      "metadata": {
        "id": "FNj67sbnfHCT",
        "outputId": "3fcd970a-c078-4fe0-8442-f09bde3dff19",
        "colab": {
          "base_uri": "https://localhost:8080/"
        }
      },
      "execution_count": 5,
      "outputs": [
        {
          "output_type": "execute_result",
          "data": {
            "text/plain": [
              "array([2., 2., 2., 2., 2., 2.])"
            ]
          },
          "metadata": {},
          "execution_count": 5
        }
      ]
    },
    {
      "cell_type": "code",
      "source": [
        "arr * scalar"
      ],
      "metadata": {
        "colab": {
          "base_uri": "https://localhost:8080/"
        },
        "id": "NLaogskOR8A2",
        "outputId": "6de98c91-9135-4d2c-e821-2535df42df58"
      },
      "execution_count": 6,
      "outputs": [
        {
          "output_type": "execute_result",
          "data": {
            "text/plain": [
              "array([ 0.,  2.,  4.,  6.,  8., 10.])"
            ]
          },
          "metadata": {},
          "execution_count": 6
        }
      ]
    },
    {
      "cell_type": "code",
      "source": [],
      "metadata": {
        "id": "nxV5SBNkfDQz"
      },
      "execution_count": null,
      "outputs": []
    },
    {
      "cell_type": "markdown",
      "source": [
        "This means that if the shapes are the same, the operation is element-wise. We used this already before in Boolean indexing.\n",
        "\n",
        "However to get the same vector of 2 we can do:"
      ],
      "metadata": {
        "id": "lmu_o3EySSBU"
      }
    },
    {
      "cell_type": "code",
      "source": [
        "scalar2 = np.zeros(6) + 2\n",
        "scalar2"
      ],
      "metadata": {
        "colab": {
          "base_uri": "https://localhost:8080/"
        },
        "id": "ezYwGgt5R9pQ",
        "outputId": "165b67a9-abb5-4e78-a9f0-8c0698acaa2b"
      },
      "execution_count": 7,
      "outputs": [
        {
          "output_type": "execute_result",
          "data": {
            "text/plain": [
              "array([2., 2., 2., 2., 2., 2.])"
            ]
          },
          "metadata": {},
          "execution_count": 7
        }
      ]
    },
    {
      "cell_type": "code",
      "source": [
        "arr * scalar2"
      ],
      "metadata": {
        "colab": {
          "base_uri": "https://localhost:8080/"
        },
        "id": "aWhPXVnuSqj-",
        "outputId": "03dc9d60-a600-4959-c631-e73ed4de8bb7"
      },
      "execution_count": 9,
      "outputs": [
        {
          "output_type": "execute_result",
          "data": {
            "text/plain": [
              "array([ 0.,  2.,  4.,  6.,  8., 10.])"
            ]
          },
          "metadata": {},
          "execution_count": 9
        }
      ]
    },
    {
      "cell_type": "markdown",
      "source": [
        "What happened? The array of zeroes got an addition by a number (2) so it got *stretched* internally to match the dimension and be able to perform the operation. This is known as **Broadcasting**"
      ],
      "metadata": {
        "id": "wtjj3UWgSpvu"
      }
    },
    {
      "cell_type": "code",
      "source": [
        "# It allows for the following:\n",
        "arr*2.0"
      ],
      "metadata": {
        "colab": {
          "base_uri": "https://localhost:8080/"
        },
        "id": "bi5Mj7PcSm1G",
        "outputId": "05e8aca9-fa80-4eaa-fb79-c946e319efac"
      },
      "execution_count": 10,
      "outputs": [
        {
          "output_type": "execute_result",
          "data": {
            "text/plain": [
              "array([ 0.,  2.,  4.,  6.,  8., 10.])"
            ]
          },
          "metadata": {},
          "execution_count": 10
        }
      ]
    },
    {
      "cell_type": "markdown",
      "source": [
        "Why do we do it? Is it only syntactic sugar?"
      ],
      "metadata": {
        "id": "G8PCJFabTFtl"
      }
    },
    {
      "cell_type": "code",
      "source": [
        "# Code from SciPy and NumPy by Eli Bressert\n",
        "\n",
        "# Create an array with 10^7 elements.\n",
        "arr = np.arange(1e7)\n",
        "\n",
        "# Converting ndarray to list\n",
        "larr = arr.tolist()\n",
        "\n",
        "# Lists cannot by default broadcast,\n",
        "# so a function is coded to emulate\n",
        "# what an ndarray can do.\n",
        "\n",
        "def list_times(alist, scalar):\n",
        "    for i, val in enumerate(alist):\n",
        "        alist[i] = val * scalar\n",
        "    return alist"
      ],
      "metadata": {
        "id": "eLK0uynnTEAJ"
      },
      "execution_count": 11,
      "outputs": []
    },
    {
      "cell_type": "code",
      "source": [
        "%timeit arr * 1.1"
      ],
      "metadata": {
        "colab": {
          "base_uri": "https://localhost:8080/"
        },
        "id": "UZMIaKt0TWhT",
        "outputId": "b2325a84-75fe-43de-b5cc-a949b1a82e75"
      },
      "execution_count": 12,
      "outputs": [
        {
          "output_type": "stream",
          "name": "stdout",
          "text": [
            "29.5 ms ± 728 µs per loop (mean ± std. dev. of 7 runs, 10 loops each)\n"
          ]
        }
      ]
    },
    {
      "cell_type": "code",
      "source": [
        "%timeit list_times(larr, 1.1)"
      ],
      "metadata": {
        "colab": {
          "base_uri": "https://localhost:8080/"
        },
        "id": "gCgfEnRCTbTp",
        "outputId": "1ca91569-b2be-4bd4-9c4f-013a5ce7ed16"
      },
      "execution_count": 13,
      "outputs": [
        {
          "output_type": "stream",
          "name": "stdout",
          "text": [
            "570 ms ± 13.7 ms per loop (mean ± std. dev. of 7 runs, 1 loop each)\n"
          ]
        }
      ]
    },
    {
      "cell_type": "markdown",
      "source": [
        "We can easily see that broadcasting makes the whole operation more efficient and ~25 times faster! Why? Because broadcasting enables the whole operation to be done in C, and not in pure Python"
      ],
      "metadata": {
        "id": "q0rNwsIsTiud"
      }
    },
    {
      "cell_type": "markdown",
      "source": [
        "## Broadcasting rules"
      ],
      "metadata": {
        "id": "MuLemG-dVz73"
      }
    },
    {
      "cell_type": "markdown",
      "source": [
        "The main rules of broadcasting are the following:\n",
        "\n",
        "1.   A dimension is 1\n",
        "2.   The dimenions match on that axis\n",
        "\n"
      ],
      "metadata": {
        "id": "LPhZQbTyV1t5"
      }
    },
    {
      "cell_type": "markdown",
      "source": [
        "So, for example is A is 1x7 and B is 7x7 the rules say they should be broadcastable, let's see"
      ],
      "metadata": {
        "id": "Z_thtN6SV-IS"
      }
    },
    {
      "cell_type": "code",
      "source": [
        "a = np.arange(7).reshape(1,7)\n",
        "b = np.arange(49).reshape(7,7)"
      ],
      "metadata": {
        "id": "Ijtp7fOHTfg1"
      },
      "execution_count": 14,
      "outputs": []
    },
    {
      "cell_type": "code",
      "source": [
        "a*b"
      ],
      "metadata": {
        "colab": {
          "base_uri": "https://localhost:8080/"
        },
        "id": "TL3W06F4WLkp",
        "outputId": "e3900a9a-0f8b-4726-ee45-bd29ac1abedb"
      },
      "execution_count": 15,
      "outputs": [
        {
          "output_type": "execute_result",
          "data": {
            "text/plain": [
              "array([[  0,   1,   4,   9,  16,  25,  36],\n",
              "       [  0,   8,  18,  30,  44,  60,  78],\n",
              "       [  0,  15,  32,  51,  72,  95, 120],\n",
              "       [  0,  22,  46,  72, 100, 130, 162],\n",
              "       [  0,  29,  60,  93, 128, 165, 204],\n",
              "       [  0,  36,  74, 114, 156, 200, 246],\n",
              "       [  0,  43,  88, 135, 184, 235, 288]])"
            ]
          },
          "metadata": {},
          "execution_count": 15
        }
      ]
    },
    {
      "cell_type": "code",
      "source": [
        "(a*b).shape"
      ],
      "metadata": {
        "colab": {
          "base_uri": "https://localhost:8080/"
        },
        "id": "lGwyVvmkWMed",
        "outputId": "12f6d592-4c19-4a6d-b72e-b82bc412a75e"
      },
      "execution_count": 16,
      "outputs": [
        {
          "output_type": "execute_result",
          "data": {
            "text/plain": [
              "(7, 7)"
            ]
          },
          "metadata": {},
          "execution_count": 16
        }
      ]
    },
    {
      "cell_type": "markdown",
      "source": [
        "It was! What happened was that the array `[0,1,2,3,4,5,6]` got repeated at every row to end up with the correspondin 7x7 array"
      ],
      "metadata": {
        "id": "Hh6wMo3ZWR7b"
      }
    },
    {
      "cell_type": "markdown",
      "source": [
        "Similarly, if the dimenions don't match or there isn't a 1, it won't work: we get an exception that the broadcasting failed"
      ],
      "metadata": {
        "id": "PzQbXOvBWf8V"
      }
    },
    {
      "cell_type": "code",
      "source": [
        "a = np.arange(10).reshape(2,5)\n",
        "b = np.arange(25).reshape(5,5)"
      ],
      "metadata": {
        "id": "ktuXlDr-WOsL"
      },
      "execution_count": 17,
      "outputs": []
    },
    {
      "cell_type": "code",
      "source": [
        "a*b"
      ],
      "metadata": {
        "colab": {
          "base_uri": "https://localhost:8080/",
          "height": 144
        },
        "id": "CB7N0dtYWt3O",
        "outputId": "f6f6d00a-51c8-41bb-b932-a6f0573f5b35"
      },
      "execution_count": 18,
      "outputs": [
        {
          "output_type": "error",
          "ename": "ValueError",
          "evalue": "operands could not be broadcast together with shapes (2,5) (5,5) ",
          "traceback": [
            "\u001b[0;31m---------------------------------------------------------------------------\u001b[0m",
            "\u001b[0;31mValueError\u001b[0m                                Traceback (most recent call last)",
            "\u001b[0;32m<ipython-input-18-8ce765dcfa30>\u001b[0m in \u001b[0;36m<cell line: 0>\u001b[0;34m()\u001b[0m\n\u001b[0;32m----> 1\u001b[0;31m \u001b[0ma\u001b[0m\u001b[0;34m*\u001b[0m\u001b[0mb\u001b[0m\u001b[0;34m\u001b[0m\u001b[0;34m\u001b[0m\u001b[0m\n\u001b[0m",
            "\u001b[0;31mValueError\u001b[0m: operands could not be broadcast together with shapes (2,5) (5,5) "
          ]
        }
      ]
    },
    {
      "cell_type": "markdown",
      "source": [
        "Now, there are caveats to the rule, let's see the following example:"
      ],
      "metadata": {
        "id": "HTFjE0MgXDgj"
      }
    },
    {
      "cell_type": "code",
      "source": [
        "a = np.array([1,2,3,4])\n",
        "b = np.arange(20).reshape(4,5)\n"
      ],
      "metadata": {
        "id": "9U59hfhMWuuR"
      },
      "execution_count": 19,
      "outputs": []
    },
    {
      "cell_type": "code",
      "source": [
        "a+b"
      ],
      "metadata": {
        "colab": {
          "base_uri": "https://localhost:8080/",
          "height": 144
        },
        "id": "eLH5AFeNXPYT",
        "outputId": "2214b63a-dcc9-4a35-9513-f87cee03ba62"
      },
      "execution_count": 20,
      "outputs": [
        {
          "output_type": "error",
          "ename": "ValueError",
          "evalue": "operands could not be broadcast together with shapes (4,) (4,5) ",
          "traceback": [
            "\u001b[0;31m---------------------------------------------------------------------------\u001b[0m",
            "\u001b[0;31mValueError\u001b[0m                                Traceback (most recent call last)",
            "\u001b[0;32m<ipython-input-20-ca730b97bf8a>\u001b[0m in \u001b[0;36m<cell line: 0>\u001b[0;34m()\u001b[0m\n\u001b[0;32m----> 1\u001b[0;31m \u001b[0ma\u001b[0m\u001b[0;34m+\u001b[0m\u001b[0mb\u001b[0m\u001b[0;34m\u001b[0m\u001b[0;34m\u001b[0m\u001b[0m\n\u001b[0m",
            "\u001b[0;31mValueError\u001b[0m: operands could not be broadcast together with shapes (4,) (4,5) "
          ]
        }
      ]
    },
    {
      "cell_type": "markdown",
      "source": [
        "What happened was that by default the broadcasting is first done in the rows (axis=0). This means it tried to put a  ( an array of shape 4) and tried to add rows of size 4. As `b` had 5 columns instead, the broadcasting failed.\n",
        "\n",
        "**Lesson: Beware of 1d arrays, just use reshape and it will just work**"
      ],
      "metadata": {
        "id": "tuzjEt25X5Bq"
      }
    },
    {
      "cell_type": "code",
      "source": [
        "a.reshape(4,1) + b"
      ],
      "metadata": {
        "colab": {
          "base_uri": "https://localhost:8080/"
        },
        "id": "SpDD-QbgM1LK",
        "outputId": "d01644a9-46f6-4eb5-cb06-952336f37f90"
      },
      "execution_count": 21,
      "outputs": [
        {
          "output_type": "execute_result",
          "data": {
            "text/plain": [
              "array([[ 1,  2,  3,  4,  5],\n",
              "       [ 7,  8,  9, 10, 11],\n",
              "       [13, 14, 15, 16, 17],\n",
              "       [19, 20, 21, 22, 23]])"
            ]
          },
          "metadata": {},
          "execution_count": 21
        }
      ]
    },
    {
      "cell_type": "markdown",
      "source": [
        "## Dimension expansion"
      ],
      "metadata": {
        "id": "vkq8ox2NYVPM"
      }
    },
    {
      "cell_type": "markdown",
      "source": [
        "As a final example, let's talk about dimension expansion"
      ],
      "metadata": {
        "id": "MZzOzV4vYXHt"
      }
    },
    {
      "cell_type": "code",
      "source": [
        "a = np.arange(42).reshape(7,1,6,1)\n",
        "b = np.arange(1680).reshape(8,7,6,1,5)"
      ],
      "metadata": {
        "id": "0hUfp23tX4ir"
      },
      "execution_count": 22,
      "outputs": []
    },
    {
      "cell_type": "markdown",
      "source": [
        "**Will they broadcast? What will be the final shape??**"
      ],
      "metadata": {
        "id": "rsYJL5Z7Ym-T"
      }
    },
    {
      "cell_type": "code",
      "source": [
        "(a+b).shape"
      ],
      "metadata": {
        "colab": {
          "base_uri": "https://localhost:8080/"
        },
        "id": "ZfADTEr9XS1d",
        "outputId": "2d07dc78-b8c3-4ebb-e84e-1b625e39d7f1"
      },
      "execution_count": 23,
      "outputs": [
        {
          "output_type": "execute_result",
          "data": {
            "text/plain": [
              "(8, 7, 6, 6, 5)"
            ]
          },
          "metadata": {},
          "execution_count": 23
        }
      ]
    },
    {
      "cell_type": "markdown",
      "source": [
        "Yes!!! Because broadcasting goes from right to left:\n",
        "\n",
        "1.   There is a 1 on `a` on the final axis. Then we broadcast that 5 times to match `b`\n",
        "2.   There is a 1 on `b` on the previous axis, we broadcast to match 6 on `a`\n",
        "3.   The third case the dimensions match, nothing to do\n",
        "4.   Broadcast 1 into 7 on `a`\n",
        "5.   No dimension on `a` copy *all* of `a` 8 times to match `b`\n",
        "\n",
        "That explains the dimensions. I leave to you as homework to check the values!\n",
        "\n"
      ],
      "metadata": {
        "id": "Yh4YDteDY3_3"
      }
    },
    {
      "cell_type": "code",
      "source": [],
      "metadata": {
        "id": "oxAYWFtFYtSx"
      },
      "execution_count": null,
      "outputs": []
    }
  ]
}