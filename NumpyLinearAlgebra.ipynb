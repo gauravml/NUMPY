{
  "nbformat": 4,
  "nbformat_minor": 0,
  "metadata": {
    "colab": {
      "provenance": [],
      "include_colab_link": true
    },
    "kernelspec": {
      "name": "python3",
      "display_name": "Python 3"
    },
    "language_info": {
      "name": "python"
    }
  },
  "cells": [
    {
      "cell_type": "markdown",
      "metadata": {
        "id": "view-in-github",
        "colab_type": "text"
      },
      "source": [
        "<a href=\"https://colab.research.google.com/github/gauravml/NUMPY/blob/main/NumpyLinearAlgebra.ipynb\" target=\"_parent\"><img src=\"https://colab.research.google.com/assets/colab-badge.svg\" alt=\"Open In Colab\"/></a>"
      ]
    },
    {
      "cell_type": "markdown",
      "source": [
        "# Arithmetic on Numpy"
      ],
      "metadata": {
        "id": "kJ1k7bOkICai"
      }
    },
    {
      "cell_type": "markdown",
      "source": [
        "## Prep"
      ],
      "metadata": {
        "id": "W7lC_7pNeTml"
      }
    },
    {
      "cell_type": "markdown",
      "source": [
        "Let's recall how to access data in lists. For that we will leverage the dataset for this course, whch is the results of an actual behavioural experiment conducted by Universidad de la Matanza (UNLaM)"
      ],
      "metadata": {
        "id": "n5GNF-_2IFhN"
      }
    },
    {
      "cell_type": "code",
      "source": [
        "%%writefile get_data.sh\n",
        "if [ ! -f dataset.csv ]; then\n",
        "  wget -O dataset.csv https://www.dropbox.com/s/9t5lc04vxwvjvo6/dataset.csv?dl=0\n",
        "fi"
      ],
      "metadata": {
        "colab": {
          "base_uri": "https://localhost:8080/"
        },
        "id": "NzUB82EcIWB8",
        "outputId": "ca1d168e-5fc3-4b7c-9834-ec6a875757c9"
      },
      "execution_count": 1,
      "outputs": [
        {
          "output_type": "stream",
          "name": "stdout",
          "text": [
            "Writing get_data.sh\n"
          ]
        }
      ]
    },
    {
      "cell_type": "code",
      "source": [
        "!bash get_data.sh\n"
      ],
      "metadata": {
        "id": "hh-cUVYvIgdK",
        "outputId": "480859ed-d292-496c-d282-c9379e458a31",
        "colab": {
          "base_uri": "https://localhost:8080/"
        }
      },
      "execution_count": 2,
      "outputs": [
        {
          "output_type": "stream",
          "name": "stdout",
          "text": [
            "--2025-05-06 22:02:20--  https://www.dropbox.com/s/9t5lc04vxwvjvo6/dataset.csv?dl=0\n",
            "Resolving www.dropbox.com (www.dropbox.com)... 162.125.5.18, 2620:100:601d:18::a27d:512\n",
            "Connecting to www.dropbox.com (www.dropbox.com)|162.125.5.18|:443... connected.\n",
            "HTTP request sent, awaiting response... 302 Found\n",
            "Location: https://www.dropbox.com/scl/fi/vdpumrhhu5yhwhgmzwday/dataset.csv?rlkey=ezm9dpl2wbkd1tzxqrn2rzrrn&dl=0 [following]\n",
            "--2025-05-06 22:02:20--  https://www.dropbox.com/scl/fi/vdpumrhhu5yhwhgmzwday/dataset.csv?rlkey=ezm9dpl2wbkd1tzxqrn2rzrrn&dl=0\n",
            "Reusing existing connection to www.dropbox.com:443.\n",
            "HTTP request sent, awaiting response... 302 Found\n",
            "Location: https://uc0e94a2d79b41d61d4b0fa234b0.dl.dropboxusercontent.com/cd/0/inline/CpP582I3Zi4jpsH1BAEuvAdSCuQPPhAOR5WwfJx-nAF5P4hFKYyHVpZtuH5v3yVVp-83XBU_QTDaWHiHuGYU3OA7flGG2gpdoAPdg1GM-Y-51Zfz53v__J5yJLwV2niHpNpe8R56MjcPLFQpZksCoFq1/file# [following]\n",
            "--2025-05-06 22:02:20--  https://uc0e94a2d79b41d61d4b0fa234b0.dl.dropboxusercontent.com/cd/0/inline/CpP582I3Zi4jpsH1BAEuvAdSCuQPPhAOR5WwfJx-nAF5P4hFKYyHVpZtuH5v3yVVp-83XBU_QTDaWHiHuGYU3OA7flGG2gpdoAPdg1GM-Y-51Zfz53v__J5yJLwV2niHpNpe8R56MjcPLFQpZksCoFq1/file\n",
            "Resolving uc0e94a2d79b41d61d4b0fa234b0.dl.dropboxusercontent.com (uc0e94a2d79b41d61d4b0fa234b0.dl.dropboxusercontent.com)... 162.125.5.15, 2620:100:601d:15::a27d:50f\n",
            "Connecting to uc0e94a2d79b41d61d4b0fa234b0.dl.dropboxusercontent.com (uc0e94a2d79b41d61d4b0fa234b0.dl.dropboxusercontent.com)|162.125.5.15|:443... connected.\n",
            "HTTP request sent, awaiting response... 200 OK\n",
            "Length: 5847 (5.7K) [text/plain]\n",
            "Saving to: ‘dataset.csv’\n",
            "\n",
            "dataset.csv         100%[===================>]   5.71K  --.-KB/s    in 0s      \n",
            "\n",
            "2025-05-06 22:02:21 (1.35 GB/s) - ‘dataset.csv’ saved [5847/5847]\n",
            "\n"
          ]
        }
      ]
    },
    {
      "cell_type": "code",
      "execution_count": 3,
      "metadata": {
        "id": "PsZMIKkLHh-4"
      },
      "outputs": [],
      "source": [
        "import numpy as np"
      ]
    },
    {
      "cell_type": "code",
      "source": [
        "numpy_arr = np.genfromtxt('dataset.csv', delimiter=',')"
      ],
      "metadata": {
        "id": "RsLI_E9tpDWd"
      },
      "execution_count": 4,
      "outputs": []
    },
    {
      "cell_type": "markdown",
      "source": [
        "## Basic Linear Algebra"
      ],
      "metadata": {
        "id": "l2OfZAJOKWPh"
      }
    },
    {
      "cell_type": "markdown",
      "source": [
        "Given two Numpy arrays, we can also do classical Matrix multiplication and addition."
      ],
      "metadata": {
        "id": "Imyehb-yTAQB"
      }
    },
    {
      "cell_type": "code",
      "source": [
        "a = numpy_arr[2:6, 7:11]\n",
        "b = numpy_arr[23:27, 3:7]"
      ],
      "metadata": {
        "id": "y_YFmddDTKI7"
      },
      "execution_count": 5,
      "outputs": []
    },
    {
      "cell_type": "code",
      "source": [
        "print(f'a shape is {a.shape} and b shape is {b.shape}')"
      ],
      "metadata": {
        "colab": {
          "base_uri": "https://localhost:8080/"
        },
        "id": "FXUvEJcnTWKD",
        "outputId": "4e2eac75-f802-44ca-c708-c9d8bfde5a0e"
      },
      "execution_count": 6,
      "outputs": [
        {
          "output_type": "stream",
          "name": "stdout",
          "text": [
            "a shape is (4, 4) and b shape is (4, 4)\n"
          ]
        }
      ]
    },
    {
      "cell_type": "code",
      "source": [
        "a + b"
      ],
      "metadata": {
        "colab": {
          "base_uri": "https://localhost:8080/"
        },
        "id": "j_3owxg8TWNU",
        "outputId": "b18e107f-fb79-4143-900b-e83164e08e3f"
      },
      "execution_count": 7,
      "outputs": [
        {
          "output_type": "execute_result",
          "data": {
            "text/plain": [
              "array([[4.  , 6.  , 6.  , 6.33],\n",
              "       [5.  , 6.  , 6.34, 6.33],\n",
              "       [4.  , 8.  , 6.66, 7.  ],\n",
              "       [3.  , 6.  , 6.33, 6.67]])"
            ]
          },
          "metadata": {},
          "execution_count": 7
        }
      ]
    },
    {
      "cell_type": "code",
      "source": [
        "a.dot(b)  # Remember a * b is elementwise"
      ],
      "metadata": {
        "colab": {
          "base_uri": "https://localhost:8080/"
        },
        "id": "Wpp4FI4eTWR-",
        "outputId": "155a0e10-e092-49d0-c55b-0a2c5a73dd1e"
      },
      "execution_count": 8,
      "outputs": [
        {
          "output_type": "execute_result",
          "data": {
            "text/plain": [
              "array([[ 4.    , 28.66  , 29.4289, 57.32  ],\n",
              "       [ 5.    , 33.67  , 34.99  , 67.67  ],\n",
              "       [ 5.    , 29.99  , 31.0989, 60.65  ],\n",
              "       [ 4.    , 27.34  , 28.2211, 54.68  ]])"
            ]
          },
          "metadata": {},
          "execution_count": 8
        }
      ]
    },
    {
      "cell_type": "markdown",
      "source": [
        "Let's verify it is indeed the matrix multiplication because it will fails if the dimensions rule doesn't comply"
      ],
      "metadata": {
        "id": "4gMi_MupUF1Z"
      }
    },
    {
      "cell_type": "code",
      "source": [
        "b = numpy_arr[23:26, 3:7]\n",
        "b.shape"
      ],
      "metadata": {
        "colab": {
          "base_uri": "https://localhost:8080/"
        },
        "id": "SNAOkWD_UPPl",
        "outputId": "c9a92bde-7e43-411e-bf6b-c233623189d3"
      },
      "execution_count": 9,
      "outputs": [
        {
          "output_type": "execute_result",
          "data": {
            "text/plain": [
              "(3, 4)"
            ]
          },
          "metadata": {},
          "execution_count": 9
        }
      ]
    },
    {
      "cell_type": "code",
      "source": [
        "a.dot(b)"
      ],
      "metadata": {
        "colab": {
          "base_uri": "https://localhost:8080/",
          "height": 144
        },
        "id": "9T2EufOKUTa7",
        "outputId": "145add24-2814-49cb-8a6f-a3b3c13864ce"
      },
      "execution_count": 10,
      "outputs": [
        {
          "output_type": "error",
          "ename": "ValueError",
          "evalue": "shapes (4,4) and (3,4) not aligned: 4 (dim 1) != 3 (dim 0)",
          "traceback": [
            "\u001b[0;31m---------------------------------------------------------------------------\u001b[0m",
            "\u001b[0;31mValueError\u001b[0m                                Traceback (most recent call last)",
            "\u001b[0;32m<ipython-input-10-ac6884f5cff1>\u001b[0m in \u001b[0;36m<cell line: 0>\u001b[0;34m()\u001b[0m\n\u001b[0;32m----> 1\u001b[0;31m \u001b[0ma\u001b[0m\u001b[0;34m.\u001b[0m\u001b[0mdot\u001b[0m\u001b[0;34m(\u001b[0m\u001b[0mb\u001b[0m\u001b[0;34m)\u001b[0m\u001b[0;34m\u001b[0m\u001b[0;34m\u001b[0m\u001b[0m\n\u001b[0m",
            "\u001b[0;31mValueError\u001b[0m: shapes (4,4) and (3,4) not aligned: 4 (dim 1) != 3 (dim 0)"
          ]
        }
      ]
    },
    {
      "cell_type": "code",
      "source": [
        "b.dot(a)"
      ],
      "metadata": {
        "colab": {
          "base_uri": "https://localhost:8080/"
        },
        "id": "ScI9tE6xUUf9",
        "outputId": "f1d58694-842b-4346-ae07-533fb2d1f83b"
      },
      "execution_count": 11,
      "outputs": [
        {
          "output_type": "execute_result",
          "data": {
            "text/plain": [
              "array([[28.    , 36.    , 34.    , 21.34  ],\n",
              "       [23.68  , 29.35  , 27.9011, 17.01  ],\n",
              "       [36.32  , 46.65  , 44.0989, 28.    ]])"
            ]
          },
          "metadata": {},
          "execution_count": 11
        }
      ]
    },
    {
      "cell_type": "markdown",
      "source": [
        "Indeed it is matrix multiplication"
      ],
      "metadata": {
        "id": "Cgj0wyDJUX3y"
      }
    },
    {
      "cell_type": "markdown",
      "source": [
        "## Solving a linear system"
      ],
      "metadata": {
        "id": "44iYhJ3PTHrI"
      }
    },
    {
      "cell_type": "markdown",
      "source": [
        "In numpy we can do the normal linear algebra operations. For example, we can solve the system:\n",
        "\n",
        "```\n",
        "A*x = b\n",
        "```\n",
        "Where the shapes are:\n",
        "```\n",
        "A -> (n,m)\n",
        "x -> (m, 1)\n",
        "b -> (m,1)\n",
        "```"
      ],
      "metadata": {
        "id": "NVLtgleIKY_Q"
      }
    },
    {
      "cell_type": "code",
      "source": [
        "A = numpy_arr[5:10, 5:10].reshape(5,5)\n",
        "b = numpy_arr[6, 5:10].reshape(5,1)"
      ],
      "metadata": {
        "id": "T1tBg25yuq0J"
      },
      "execution_count": 19,
      "outputs": []
    },
    {
      "cell_type": "code",
      "source": [
        "print(f'A shape is {A.shape} and b shape is {b.shape}')"
      ],
      "metadata": {
        "colab": {
          "base_uri": "https://localhost:8080/"
        },
        "id": "nW2B4PwFSnmY",
        "outputId": "3e028569-9a41-4099-f736-c1664830a69a"
      },
      "execution_count": 17,
      "outputs": [
        {
          "output_type": "stream",
          "name": "stdout",
          "text": [
            "A shape is (4, 5) and b shape is (5, 1)\n"
          ]
        }
      ]
    },
    {
      "cell_type": "code",
      "source": [
        "x = np.linalg.inv(A).dot(b)"
      ],
      "metadata": {
        "id": "GLjpzqEqQl-9"
      },
      "execution_count": 21,
      "outputs": []
    },
    {
      "cell_type": "code",
      "source": [
        "x"
      ],
      "metadata": {
        "colab": {
          "base_uri": "https://localhost:8080/"
        },
        "id": "1fNVCbjhUgW3",
        "outputId": "ad9077c9-5897-4355-ada4-0bef8b4ed479"
      },
      "execution_count": 22,
      "outputs": [
        {
          "output_type": "execute_result",
          "data": {
            "text/plain": [
              "array([[   2.01515152],\n",
              "       [-161.26020202],\n",
              "       [-161.81691919],\n",
              "       [-162.05363636],\n",
              "       [ 484.9040404 ]])"
            ]
          },
          "metadata": {},
          "execution_count": 22
        }
      ]
    },
    {
      "cell_type": "markdown",
      "source": [],
      "metadata": {
        "id": "ziWegsHvUwe0"
      }
    },
    {
      "cell_type": "code",
      "source": [],
      "metadata": {
        "id": "IlPXf8xNUtVP"
      },
      "execution_count": null,
      "outputs": []
    }
  ]
}