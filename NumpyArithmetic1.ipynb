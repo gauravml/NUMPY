{
  "nbformat": 4,
  "nbformat_minor": 0,
  "metadata": {
    "colab": {
      "provenance": [],
      "include_colab_link": true
    },
    "kernelspec": {
      "name": "python3",
      "display_name": "Python 3"
    },
    "language_info": {
      "name": "python"
    }
  },
  "cells": [
    {
      "cell_type": "markdown",
      "metadata": {
        "id": "view-in-github",
        "colab_type": "text"
      },
      "source": [
        "<a href=\"https://colab.research.google.com/github/gauravml/NUMPY/blob/main/NumpyArithmetic1.ipynb\" target=\"_parent\"><img src=\"https://colab.research.google.com/assets/colab-badge.svg\" alt=\"Open In Colab\"/></a>"
      ]
    },
    {
      "cell_type": "markdown",
      "source": [
        "# Arithmetic on Numpy"
      ],
      "metadata": {
        "id": "kJ1k7bOkICai"
      }
    },
    {
      "cell_type": "markdown",
      "source": [
        "## Prep"
      ],
      "metadata": {
        "id": "W7lC_7pNeTml"
      }
    },
    {
      "cell_type": "markdown",
      "source": [
        "Let's recall how to access data in lists. For that we will leverage the dtaset for this course, whch is the results of an actual beheivoural experiment conducted by Universidad de la Matanza (UNLaM)"
      ],
      "metadata": {
        "id": "n5GNF-_2IFhN"
      }
    },
    {
      "cell_type": "code",
      "source": [
        "%%writefile get_data.sh\n",
        "if [ ! -f dataset.csv ]; then\n",
        "  wget -O dataset.csv https://www.dropbox.com/s/9t5lc04vxwvjvo6/dataset.csv?dl=0\n",
        "fi"
      ],
      "metadata": {
        "colab": {
          "base_uri": "https://localhost:8080/"
        },
        "id": "NzUB82EcIWB8",
        "outputId": "c4cc7700-65d2-43f6-90a0-422d88f8f409"
      },
      "execution_count": 1,
      "outputs": [
        {
          "output_type": "stream",
          "name": "stdout",
          "text": [
            "Writing get_data.sh\n"
          ]
        }
      ]
    },
    {
      "cell_type": "code",
      "source": [
        "!bash get_data.sh\n"
      ],
      "metadata": {
        "id": "hh-cUVYvIgdK",
        "colab": {
          "base_uri": "https://localhost:8080/"
        },
        "outputId": "be0f4514-7ebd-4e35-df4a-44dfc42f3aa5"
      },
      "execution_count": 2,
      "outputs": [
        {
          "output_type": "stream",
          "name": "stdout",
          "text": [
            "--2025-05-06 21:40:20--  https://www.dropbox.com/s/9t5lc04vxwvjvo6/dataset.csv?dl=0\n",
            "Resolving www.dropbox.com (www.dropbox.com)... 162.125.65.18, 2620:100:6021:18::a27d:4112\n",
            "Connecting to www.dropbox.com (www.dropbox.com)|162.125.65.18|:443... connected.\n",
            "HTTP request sent, awaiting response... 302 Found\n",
            "Location: https://www.dropbox.com/scl/fi/vdpumrhhu5yhwhgmzwday/dataset.csv?rlkey=ezm9dpl2wbkd1tzxqrn2rzrrn&dl=0 [following]\n",
            "--2025-05-06 21:40:21--  https://www.dropbox.com/scl/fi/vdpumrhhu5yhwhgmzwday/dataset.csv?rlkey=ezm9dpl2wbkd1tzxqrn2rzrrn&dl=0\n",
            "Reusing existing connection to www.dropbox.com:443.\n",
            "HTTP request sent, awaiting response... 302 Found\n",
            "Location: https://uc1c8d1a53559d8b38429adbcb44.dl.dropboxusercontent.com/cd/0/inline/CpNBwNCo2nYxz-2aLtjQQlEGjGUwEX2TNPx1afK8OlhxxOLtv2TOR2u92wovF3iTVQImQ4vjKfWUmqyHKceJAiMyzeo9JmOHgcaTvIvuqEzWtTJvnd-w_xpSKCx41b1H1v8flBvA2Y9YC3t_Ny2cHeRS/file# [following]\n",
            "--2025-05-06 21:40:21--  https://uc1c8d1a53559d8b38429adbcb44.dl.dropboxusercontent.com/cd/0/inline/CpNBwNCo2nYxz-2aLtjQQlEGjGUwEX2TNPx1afK8OlhxxOLtv2TOR2u92wovF3iTVQImQ4vjKfWUmqyHKceJAiMyzeo9JmOHgcaTvIvuqEzWtTJvnd-w_xpSKCx41b1H1v8flBvA2Y9YC3t_Ny2cHeRS/file\n",
            "Resolving uc1c8d1a53559d8b38429adbcb44.dl.dropboxusercontent.com (uc1c8d1a53559d8b38429adbcb44.dl.dropboxusercontent.com)... 162.125.65.15, 2620:100:6021:15::a27d:410f\n",
            "Connecting to uc1c8d1a53559d8b38429adbcb44.dl.dropboxusercontent.com (uc1c8d1a53559d8b38429adbcb44.dl.dropboxusercontent.com)|162.125.65.15|:443... connected.\n",
            "HTTP request sent, awaiting response... 200 OK\n",
            "Length: 5847 (5.7K) [text/plain]\n",
            "Saving to: ‘dataset.csv’\n",
            "\n",
            "dataset.csv         100%[===================>]   5.71K  --.-KB/s    in 0s      \n",
            "\n",
            "2025-05-06 21:40:22 (1.38 GB/s) - ‘dataset.csv’ saved [5847/5847]\n",
            "\n"
          ]
        }
      ]
    },
    {
      "cell_type": "code",
      "execution_count": 3,
      "metadata": {
        "id": "PsZMIKkLHh-4"
      },
      "outputs": [],
      "source": [
        "import numpy as np"
      ]
    },
    {
      "cell_type": "code",
      "source": [
        "numpy_arr = np.genfromtxt('dataset.csv', delimiter=',')"
      ],
      "metadata": {
        "id": "RsLI_E9tpDWd"
      },
      "execution_count": 4,
      "outputs": []
    },
    {
      "cell_type": "markdown",
      "source": [
        "## Basic Arithmetic between arrays"
      ],
      "metadata": {
        "id": "l2OfZAJOKWPh"
      }
    },
    {
      "cell_type": "markdown",
      "source": [
        "We can easily do the normal operations like addition or multiplication between numpy arrays"
      ],
      "metadata": {
        "id": "NVLtgleIKY_Q"
      }
    },
    {
      "cell_type": "code",
      "source": [
        "a = numpy_arr[2:4, :5]\n",
        "b = numpy_arr[5:7, 5:10]"
      ],
      "metadata": {
        "id": "T1tBg25yuq0J"
      },
      "execution_count": 5,
      "outputs": []
    },
    {
      "cell_type": "code",
      "source": [
        "a.shape"
      ],
      "metadata": {
        "id": "0ooM48Api597",
        "outputId": "a7167cfe-e712-4995-ead9-7788c0cb9e23",
        "colab": {
          "base_uri": "https://localhost:8080/"
        }
      },
      "execution_count": 6,
      "outputs": [
        {
          "output_type": "execute_result",
          "data": {
            "text/plain": [
              "(2, 5)"
            ]
          },
          "metadata": {},
          "execution_count": 6
        }
      ]
    },
    {
      "cell_type": "code",
      "source": [
        "b.shape"
      ],
      "metadata": {
        "id": "m4SqiMuLi8CJ",
        "outputId": "be2b3254-170c-4be1-a6be-770857030169",
        "colab": {
          "base_uri": "https://localhost:8080/"
        }
      },
      "execution_count": 7,
      "outputs": [
        {
          "output_type": "execute_result",
          "data": {
            "text/plain": [
              "(2, 5)"
            ]
          },
          "metadata": {},
          "execution_count": 7
        }
      ]
    },
    {
      "cell_type": "code",
      "source": [
        "a+b"
      ],
      "metadata": {
        "colab": {
          "base_uri": "https://localhost:8080/"
        },
        "id": "jxIEdRffKyMh",
        "outputId": "b89ac9d9-cbdf-4d37-9de8-2f7265f585e4"
      },
      "execution_count": 8,
      "outputs": [
        {
          "output_type": "execute_result",
          "data": {
            "text/plain": [
              "array([[3.33, 5.  , 6.  , 4.  , 6.  ],\n",
              "       [5.33, 3.  , 4.  , 2.  , 4.33]])"
            ]
          },
          "metadata": {},
          "execution_count": 8
        }
      ]
    },
    {
      "cell_type": "code",
      "source": [
        "a*b"
      ],
      "metadata": {
        "colab": {
          "base_uri": "https://localhost:8080/"
        },
        "id": "Qhn6LAJRK59j",
        "outputId": "90a8c74c-5915-4b48-e372-9407e93786d0"
      },
      "execution_count": 9,
      "outputs": [
        {
          "output_type": "execute_result",
          "data": {
            "text/plain": [
              "array([[2.66, 0.  , 9.  , 0.  , 8.  ],\n",
              "       [6.99, 0.  , 4.  , 0.  , 4.66]])"
            ]
          },
          "metadata": {},
          "execution_count": 9
        }
      ]
    },
    {
      "cell_type": "markdown",
      "source": [
        "As you can see, and we have seen in the demo on Broadcasting, the operation is done elementwise.\n",
        "\n",
        "If the dimensions don't match or they broadcasting fails, we get an exception"
      ],
      "metadata": {
        "id": "sPwgnAV6K92c"
      }
    },
    {
      "cell_type": "code",
      "source": [
        "c= numpy_arr[3:6, 5:10]\n",
        "print(f'a shape is {a.shape} and c shape is {c.shape}')"
      ],
      "metadata": {
        "colab": {
          "base_uri": "https://localhost:8080/"
        },
        "id": "k38KS65NK8WC",
        "outputId": "94bd4059-b431-4e8c-a530-421265ef27fb"
      },
      "execution_count": 11,
      "outputs": [
        {
          "output_type": "stream",
          "name": "stdout",
          "text": [
            "a shape is (2, 5) and c shape is (3, 5)\n"
          ]
        }
      ]
    },
    {
      "cell_type": "code",
      "source": [
        "a*c"
      ],
      "metadata": {
        "colab": {
          "base_uri": "https://localhost:8080/",
          "height": 144
        },
        "id": "Akv3EMKYLXcg",
        "outputId": "6ce2b487-d7af-4d40-c49f-b7056c35a940"
      },
      "execution_count": 12,
      "outputs": [
        {
          "output_type": "error",
          "ename": "ValueError",
          "evalue": "operands could not be broadcast together with shapes (2,5) (3,5) ",
          "traceback": [
            "\u001b[0;31m---------------------------------------------------------------------------\u001b[0m",
            "\u001b[0;31mValueError\u001b[0m                                Traceback (most recent call last)",
            "\u001b[0;32m<ipython-input-12-531f218278af>\u001b[0m in \u001b[0;36m<cell line: 0>\u001b[0;34m()\u001b[0m\n\u001b[0;32m----> 1\u001b[0;31m \u001b[0ma\u001b[0m\u001b[0;34m*\u001b[0m\u001b[0mc\u001b[0m\u001b[0;34m\u001b[0m\u001b[0;34m\u001b[0m\u001b[0m\n\u001b[0m",
            "\u001b[0;31mValueError\u001b[0m: operands could not be broadcast together with shapes (2,5) (3,5) "
          ]
        }
      ]
    },
    {
      "cell_type": "markdown",
      "source": [
        "## Arithmetic within the array"
      ],
      "metadata": {
        "id": "uRbWbFHtLcvL"
      }
    },
    {
      "cell_type": "markdown",
      "source": [
        "However, sometimes we want to do operations within the array, for example: *What is the sum of the second column? Or the mean?*"
      ],
      "metadata": {
        "id": "6PXiU8EwLfKE"
      }
    },
    {
      "cell_type": "code",
      "source": [
        "a = numpy_arr[:,1]\n",
        "a.sum()"
      ],
      "metadata": {
        "colab": {
          "base_uri": "https://localhost:8080/"
        },
        "id": "ldkBnB0ELYBG",
        "outputId": "a34bd7c7-9864-460f-91d0-859663b01e4c"
      },
      "execution_count": 13,
      "outputs": [
        {
          "output_type": "execute_result",
          "data": {
            "text/plain": [
              "np.float64(235.0)"
            ]
          },
          "metadata": {},
          "execution_count": 13
        }
      ]
    },
    {
      "cell_type": "code",
      "source": [
        "np.sum(a)"
      ],
      "metadata": {
        "colab": {
          "base_uri": "https://localhost:8080/"
        },
        "id": "ftXAZSdILtbZ",
        "outputId": "557ffa62-d622-440e-8e8c-f5390969ef34"
      },
      "execution_count": 14,
      "outputs": [
        {
          "output_type": "execute_result",
          "data": {
            "text/plain": [
              "np.float64(235.0)"
            ]
          },
          "metadata": {},
          "execution_count": 14
        }
      ]
    },
    {
      "cell_type": "markdown",
      "source": [
        "Both work! Notice in this case it was easy because there was only one dimension over to take the operand.\n",
        "\n",
        "We can also calculate the *mean*, *std*, *abs*, all trigonometric functions, and more..."
      ],
      "metadata": {
        "id": "Kw6M-mwYLvbB"
      }
    },
    {
      "cell_type": "code",
      "source": [
        "np.abs(a).mean()"
      ],
      "metadata": {
        "colab": {
          "base_uri": "https://localhost:8080/"
        },
        "id": "naWs-LVMLp99",
        "outputId": "e7fadf53-b8c1-47ea-eb5a-dafd5d9fe5b5"
      },
      "execution_count": 15,
      "outputs": [
        {
          "output_type": "execute_result",
          "data": {
            "text/plain": [
              "np.float64(1.1809045226130652)"
            ]
          },
          "metadata": {},
          "execution_count": 15
        }
      ]
    },
    {
      "cell_type": "code",
      "source": [
        "d = np.cos(a)   # Returns an array, it broadcasts the function"
      ],
      "metadata": {
        "id": "5UGoMzkdMDtB"
      },
      "execution_count": 16,
      "outputs": []
    },
    {
      "cell_type": "code",
      "source": [
        "d.mean()"
      ],
      "metadata": {
        "colab": {
          "base_uri": "https://localhost:8080/"
        },
        "id": "eztkHAkoMGBj",
        "outputId": "3c6da739-d620-485a-8113-73a131121927"
      },
      "execution_count": 17,
      "outputs": [
        {
          "output_type": "execute_result",
          "data": {
            "text/plain": [
              "np.float64(0.2849004620475214)"
            ]
          },
          "metadata": {},
          "execution_count": 17
        }
      ]
    },
    {
      "cell_type": "markdown",
      "source": [
        "Let's see what happens if we want to handle other columns"
      ],
      "metadata": {
        "id": "2JE5Sj6NMTjR"
      }
    },
    {
      "cell_type": "code",
      "source": [
        "e = numpy_arr[:, 2:8]\n",
        "e.shape"
      ],
      "metadata": {
        "colab": {
          "base_uri": "https://localhost:8080/"
        },
        "id": "VI-_uFbgMOXC",
        "outputId": "1d5000f6-663b-4176-90c0-ebdb390cb024"
      },
      "execution_count": 18,
      "outputs": [
        {
          "output_type": "execute_result",
          "data": {
            "text/plain": [
              "(199, 6)"
            ]
          },
          "metadata": {},
          "execution_count": 18
        }
      ]
    },
    {
      "cell_type": "code",
      "source": [
        "e.sum()"
      ],
      "metadata": {
        "colab": {
          "base_uri": "https://localhost:8080/"
        },
        "id": "QWnP-l3JMZLy",
        "outputId": "a4d7b182-e343-4bdf-d1d3-445355d76b33"
      },
      "execution_count": 19,
      "outputs": [
        {
          "output_type": "execute_result",
          "data": {
            "text/plain": [
              "np.float64(nan)"
            ]
          },
          "metadata": {},
          "execution_count": 19
        }
      ]
    },
    {
      "cell_type": "markdown",
      "source": [
        "**What happened?**"
      ],
      "metadata": {
        "id": "01WIAa6JMbyL"
      }
    },
    {
      "cell_type": "markdown",
      "source": [
        "When dealing with `NaN` the following rules apply:\n",
        "\n",
        "\n",
        "\n",
        "1.   `Scalar + NaN = NaN`\n",
        "2.   `Scalar * NaN = NaN`\n",
        "\n",
        "So we need to tackle the `NaN`s first, luckily we have done it in a previous demo\n"
      ],
      "metadata": {
        "id": "7lbyrS5YM4oA"
      }
    },
    {
      "cell_type": "markdown",
      "source": [
        "## Handling NaN"
      ],
      "metadata": {
        "id": "ZS4R91EMQQyr"
      }
    },
    {
      "cell_type": "code",
      "source": [
        "~np.isnan(numpy_arr)"
      ],
      "metadata": {
        "colab": {
          "base_uri": "https://localhost:8080/"
        },
        "id": "iihcXBxFMaat",
        "outputId": "e433659a-3171-4596-b059-a84780aa7476"
      },
      "execution_count": 20,
      "outputs": [
        {
          "output_type": "execute_result",
          "data": {
            "text/plain": [
              "array([[ True,  True,  True, ...,  True,  True,  True],\n",
              "       [ True,  True,  True, ...,  True,  True,  True],\n",
              "       [ True,  True,  True, ...,  True,  True,  True],\n",
              "       ...,\n",
              "       [ True,  True, False, ..., False, False, False],\n",
              "       [ True,  True, False, ..., False, False, False],\n",
              "       [ True,  True, False, ..., False, False, False]])"
            ]
          },
          "metadata": {},
          "execution_count": 20
        }
      ]
    },
    {
      "cell_type": "markdown",
      "source": [
        "Here we have the indexer of values that are not NaN.\n",
        "\n",
        "Now we need to get a True if all of the columns are True for that row. That means on axis=1"
      ],
      "metadata": {
        "id": "mRBrRKosO7bG"
      }
    },
    {
      "cell_type": "code",
      "source": [
        "~np.isnan(numpy_arr).any(axis=1)"
      ],
      "metadata": {
        "colab": {
          "base_uri": "https://localhost:8080/"
        },
        "id": "MJ48cX2sOF0W",
        "outputId": "ce58d46f-95cc-465b-eb43-5d8d934e3276"
      },
      "execution_count": 21,
      "outputs": [
        {
          "output_type": "execute_result",
          "data": {
            "text/plain": [
              "array([ True,  True,  True,  True,  True,  True,  True,  True,  True,\n",
              "        True,  True,  True,  True,  True,  True,  True,  True,  True,\n",
              "        True,  True,  True,  True,  True,  True,  True,  True,  True,\n",
              "        True, False, False, False, False, False,  True,  True,  True,\n",
              "        True,  True,  True,  True,  True,  True,  True,  True,  True,\n",
              "        True,  True,  True,  True,  True,  True,  True,  True,  True,\n",
              "        True,  True,  True,  True,  True,  True,  True,  True,  True,\n",
              "        True,  True,  True,  True,  True,  True,  True,  True,  True,\n",
              "        True,  True,  True,  True,  True,  True,  True,  True,  True,\n",
              "        True,  True,  True,  True,  True,  True,  True,  True,  True,\n",
              "        True,  True,  True,  True,  True,  True,  True,  True,  True,\n",
              "        True,  True,  True,  True,  True,  True, False, False, False,\n",
              "       False, False, False, False, False, False, False, False, False,\n",
              "       False, False, False, False, False, False, False, False, False,\n",
              "       False, False, False, False,  True,  True,  True,  True,  True,\n",
              "        True,  True,  True,  True,  True,  True,  True,  True,  True,\n",
              "        True,  True,  True,  True,  True,  True,  True,  True,  True,\n",
              "        True,  True,  True,  True,  True,  True,  True,  True,  True,\n",
              "        True,  True,  True,  True,  True,  True,  True,  True,  True,\n",
              "        True,  True,  True,  True,  True,  True,  True,  True,  True,\n",
              "        True, False, False, False, False, False, False, False, False,\n",
              "       False, False, False, False, False, False, False, False, False,\n",
              "       False])"
            ]
          },
          "metadata": {},
          "execution_count": 21
        }
      ]
    },
    {
      "cell_type": "markdown",
      "source": [
        "The rows with `False` have `NaN` values and we will drop them. We will reassin this into a new array"
      ],
      "metadata": {
        "id": "SGKm6d9OPPV8"
      }
    },
    {
      "cell_type": "code",
      "source": [
        "cleaned_numpy_arr = numpy_arr[~np.isnan(numpy_arr).any(axis=1)]"
      ],
      "metadata": {
        "id": "CyLpA4kWPNRe"
      },
      "execution_count": 22,
      "outputs": []
    },
    {
      "cell_type": "code",
      "source": [
        "cleaned_numpy_arr.shape"
      ],
      "metadata": {
        "colab": {
          "base_uri": "https://localhost:8080/"
        },
        "id": "u7PKw-MSPY8M",
        "outputId": "d5fa1804-2efc-44d3-8c47-33c51bf96ea2"
      },
      "execution_count": 23,
      "outputs": [
        {
          "output_type": "execute_result",
          "data": {
            "text/plain": [
              "(151, 11)"
            ]
          },
          "metadata": {},
          "execution_count": 23
        }
      ]
    },
    {
      "cell_type": "code",
      "source": [
        "cleaned_numpy_arr.sum()"
      ],
      "metadata": {
        "colab": {
          "base_uri": "https://localhost:8080/"
        },
        "id": "Ai11zmg3PaH8",
        "outputId": "8072da8d-c11a-4c5f-8ea2-f4be00ef45ef"
      },
      "execution_count": 24,
      "outputs": [
        {
          "output_type": "execute_result",
          "data": {
            "text/plain": [
              "np.float64(16658.97)"
            ]
          },
          "metadata": {},
          "execution_count": 24
        }
      ]
    },
    {
      "cell_type": "markdown",
      "source": [
        "It worked!\n"
      ],
      "metadata": {
        "id": "RGFIfdYMPcfo"
      }
    },
    {
      "cell_type": "markdown",
      "source": [
        "## Working over axis"
      ],
      "metadata": {
        "id": "SEza_bciQWwk"
      }
    },
    {
      "cell_type": "markdown",
      "source": [
        "\n",
        "Now, how can we get the sum and average over the columns? Specifying the axis to be zero! In that case the axis 0 (rows) is where it will sum"
      ],
      "metadata": {
        "id": "chUNKvPmQUo8"
      }
    },
    {
      "cell_type": "code",
      "source": [
        "cleaned_numpy_arr.sum(axis=0)"
      ],
      "metadata": {
        "colab": {
          "base_uri": "https://localhost:8080/"
        },
        "id": "Or13LNlAPbm3",
        "outputId": "a0124713-5703-41f1-d791-a85e51b159e9"
      },
      "execution_count": 25,
      "outputs": [
        {
          "output_type": "execute_result",
          "data": {
            "text/plain": [
              "array([13215.  ,   174.  ,   478.  ,   203.  ,   294.  ,   324.99,\n",
              "         441.  ,   491.  ,   445.  ,   458.98,   134.  ])"
            ]
          },
          "metadata": {},
          "execution_count": 25
        }
      ]
    },
    {
      "cell_type": "code",
      "source": [
        "cleaned_numpy_arr.mean(axis=0)"
      ],
      "metadata": {
        "colab": {
          "base_uri": "https://localhost:8080/"
        },
        "id": "eOC0WVDBPnMF",
        "outputId": "14de439e-670b-4afb-9927-6075c6901630"
      },
      "execution_count": 26,
      "outputs": [
        {
          "output_type": "execute_result",
          "data": {
            "text/plain": [
              "array([87.51655629,  1.15231788,  3.16556291,  1.34437086,  1.94701987,\n",
              "        2.15225166,  2.9205298 ,  3.25165563,  2.94701987,  3.03960265,\n",
              "        0.88741722])"
            ]
          },
          "metadata": {},
          "execution_count": 26
        }
      ]
    },
    {
      "cell_type": "markdown",
      "source": [
        "**To finalise, can you get the mean and standard deviation of the 5th column?**"
      ],
      "metadata": {
        "id": "luEUGNjCQFPQ"
      }
    },
    {
      "cell_type": "code",
      "source": [
        "f = cleaned_numpy_arr[:,7]\n",
        "mean = f.mean(axis=0)\n",
        "std = f.std(axis=0)\n",
        "print(f'The mean is {mean} and the std is {std}')"
      ],
      "metadata": {
        "colab": {
          "base_uri": "https://localhost:8080/"
        },
        "id": "6mIvuw0BPpbO",
        "outputId": "a8f09dd7-3cfe-4b6a-bcab-c05135e6d01c"
      },
      "execution_count": 27,
      "outputs": [
        {
          "output_type": "stream",
          "name": "stdout",
          "text": [
            "The mean is 3.251655629139073 and the std is 1.0991781580483504\n"
          ]
        }
      ]
    },
    {
      "cell_type": "code",
      "source": [],
      "metadata": {
        "id": "GLjpzqEqQl-9"
      },
      "execution_count": null,
      "outputs": []
    }
  ]
}